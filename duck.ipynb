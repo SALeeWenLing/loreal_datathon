{
 "cells": [
  {
   "cell_type": "markdown",
   "id": "560f48b0",
   "metadata": {},
   "source": [
    "Set up tables"
   ]
  },
  {
   "cell_type": "code",
   "execution_count": 1,
   "id": "268f722ac7be868c",
   "metadata": {
    "ExecuteTime": {
     "end_time": "2025-09-04T12:18:24.020330Z",
     "start_time": "2025-09-04T12:18:21.347562Z"
    }
   },
   "outputs": [],
   "source": [
    "import duckdb\n",
    "conn = duckdb.connect('mydb.duckdb')\n",
    "\n",
    "# Drop table if exists\n",
    "conn.sql(\"DROP TABLE IF EXISTS comments\")\n",
    "conn.sql(\"DROP TABLE IF EXISTS videos\")\n",
    "\n",
    "# Create 'comments' table from multiple CSVs\n",
    "conn.sql(\"\"\"\n",
    "    CREATE TABLE IF NOT EXISTS comments AS\n",
    "    SELECT * FROM read_csv_auto('dataset/comments1.csv')\n",
    "    UNION ALL\n",
    "    SELECT * FROM read_csv_auto('dataset/comments2.csv')\n",
    "    UNION ALL\n",
    "    SELECT * FROM read_csv_auto('dataset/comments3.csv')\n",
    "    UNION ALL\n",
    "    SELECT * FROM read_csv_auto('dataset/comments4.csv')\n",
    "    UNION ALL\n",
    "    SELECT * FROM read_csv_auto('dataset/comments5.csv')\n",
    "\"\"\")\n",
    "\n",
    "# Add relevance score column\n",
    "conn.sql(\"\"\"\n",
    "    ALTER TABLE comments ADD COLUMN relevance_score DOUBLE;\n",
    "\"\"\")\n",
    "\n",
    "# Create 'videos' table from videos.csv\n",
    "conn.sql(\"\"\"\n",
    "    CREATE TABLE IF NOT EXISTS videos AS\n",
    "    SELECT * FROM read_csv_auto('dataset/videos.csv')\n",
    "\"\"\")"
   ]
  },
  {
   "cell_type": "markdown",
   "id": "3c7f6a05",
   "metadata": {},
   "source": [
    "Show table columns"
   ]
  },
  {
   "cell_type": "code",
   "execution_count": 3,
   "id": "cdfbbf9c",
   "metadata": {},
   "outputs": [
    {
     "name": "stdout",
     "output_type": "stream",
     "text": [
      "Comments table columns:\n",
      "['kind', 'commentId', 'channelId', 'videoId', 'authorId', 'textOriginal', 'parentCommentId', 'likeCount', 'publishedAt', 'updatedAt', 'relevance_score']\n",
      "Videos table columns:\n",
      "['kind', 'videoId', 'publishedAt', 'channelId', 'title', 'description', 'tags', 'defaultLanguage', 'defaultAudioLanguage', 'contentDuration', 'viewCount', 'likeCount', 'favouriteCount', 'commentCount', 'topicCategories']\n"
     ]
    }
   ],
   "source": [
    "# Show all columns for 'comments' and 'videos' tables\n",
    "print('Comments table columns:')\n",
    "print(conn.sql('PRAGMA table_info(comments)').df()['name'].tolist())\n",
    "\n",
    "print('Videos table columns:')\n",
    "print(conn.sql('PRAGMA table_info(videos)').df()['name'].tolist())"
   ]
  },
  {
   "cell_type": "markdown",
   "id": "cfb8b363",
   "metadata": {},
   "source": [
    "Calculate RELEVANCE"
   ]
  },
  {
   "cell_type": "code",
   "execution_count": null,
   "id": "35be242c",
   "metadata": {},
   "outputs": [
    {
     "data": {
      "text/html": [
       "<div>\n",
       "<style scoped>\n",
       "    .dataframe tbody tr th:only-of-type {\n",
       "        vertical-align: middle;\n",
       "    }\n",
       "\n",
       "    .dataframe tbody tr th {\n",
       "        vertical-align: top;\n",
       "    }\n",
       "\n",
       "    .dataframe thead th {\n",
       "        text-align: right;\n",
       "    }\n",
       "</style>\n",
       "<table border=\"1\" class=\"dataframe\">\n",
       "  <thead>\n",
       "    <tr style=\"text-align: right;\">\n",
       "      <th></th>\n",
       "      <th>commentId</th>\n",
       "      <th>textOriginal</th>\n",
       "      <th>likeCount</th>\n",
       "      <th>relevance_score</th>\n",
       "    </tr>\n",
       "  </thead>\n",
       "  <tbody>\n",
       "    <tr>\n",
       "      <th>0</th>\n",
       "      <td>2157929</td>\n",
       "      <td>men will say they don’t like makeup and then call a women wearing a full face the hottest person ever.</td>\n",
       "      <td>456142</td>\n",
       "      <td>912209.470535</td>\n",
       "    </tr>\n",
       "    <tr>\n",
       "      <th>1</th>\n",
       "      <td>3226321</td>\n",
       "      <td>Unpopular opinion… we aren’t colors we’re people 💪</td>\n",
       "      <td>361860</td>\n",
       "      <td>723693.641991</td>\n",
       "    </tr>\n",
       "    <tr>\n",
       "      <th>2</th>\n",
       "      <td>3626502</td>\n",
       "      <td>They really be discovering now that black people can tan too 😂</td>\n",
       "      <td>236006</td>\n",
       "      <td>471927.330128</td>\n",
       "    </tr>\n",
       "    <tr>\n",
       "      <th>3</th>\n",
       "      <td>850913</td>\n",
       "      <td>The fade into the makeup filter is flawless.. I’m gonna try the tape</td>\n",
       "      <td>210116</td>\n",
       "      <td>420147.012792</td>\n",
       "    </tr>\n",
       "    <tr>\n",
       "      <th>4</th>\n",
       "      <td>899447</td>\n",
       "      <td>Oh thank God. For a few seconds there you were Marge Simpson.</td>\n",
       "      <td>194610</td>\n",
       "      <td>389164.050780</td>\n",
       "    </tr>\n",
       "    <tr>\n",
       "      <th>5</th>\n",
       "      <td>2153599</td>\n",
       "      <td>The homie nailed when he said\" we are all different shades of wheat\"</td>\n",
       "      <td>162767</td>\n",
       "      <td>325511.577481</td>\n",
       "    </tr>\n",
       "    <tr>\n",
       "      <th>6</th>\n",
       "      <td>4623242</td>\n",
       "      <td>if this man is struggling to get asked out we're all fucked</td>\n",
       "      <td>143374</td>\n",
       "      <td>286671.274188</td>\n",
       "    </tr>\n",
       "    <tr>\n",
       "      <th>7</th>\n",
       "      <td>3711365</td>\n",
       "      <td>I NEVER KNEW SOMEONE ALSO STRUGGLES WITH THE PERFECT PART</td>\n",
       "      <td>139006</td>\n",
       "      <td>277960.095769</td>\n",
       "    </tr>\n",
       "    <tr>\n",
       "      <th>8</th>\n",
       "      <td>4421158</td>\n",
       "      <td>Dude for people trying to say her hair isn’t curly I could personally use every product she uses and more and do it the same way and my hair will not be curly I have straight hair she doesn’t lol she spoke straight facts</td>\n",
       "      <td>138535</td>\n",
       "      <td>277002.861440</td>\n",
       "    </tr>\n",
       "    <tr>\n",
       "      <th>9</th>\n",
       "      <td>2387235</td>\n",
       "      <td>you know she’s pretty when she can pull off everything 💕\\n\\n\\ny’all be blowing up my phone 😭💀</td>\n",
       "      <td>137338</td>\n",
       "      <td>274596.418533</td>\n",
       "    </tr>\n",
       "  </tbody>\n",
       "</table>\n",
       "</div>"
      ],
      "text/plain": [
       "   commentId  \\\n",
       "0    2157929   \n",
       "1    3226321   \n",
       "2    3626502   \n",
       "3     850913   \n",
       "4     899447   \n",
       "5    2153599   \n",
       "6    4623242   \n",
       "7    3711365   \n",
       "8    4421158   \n",
       "9    2387235   \n",
       "\n",
       "                                                                                                                                                                                                                   textOriginal  \\\n",
       "0                                                                                                                        men will say they don’t like makeup and then call a women wearing a full face the hottest person ever.   \n",
       "1                                                                                                                                                                            Unpopular opinion… we aren’t colors we’re people 💪   \n",
       "2                                                                                                                                                                They really be discovering now that black people can tan too 😂   \n",
       "3                                                                                                                                                          The fade into the makeup filter is flawless.. I’m gonna try the tape   \n",
       "4                                                                                                                                                                 Oh thank God. For a few seconds there you were Marge Simpson.   \n",
       "5                                                                                                                                                          The homie nailed when he said\" we are all different shades of wheat\"   \n",
       "6                                                                                                                                                                   if this man is struggling to get asked out we're all fucked   \n",
       "7                                                                                                                                                                     I NEVER KNEW SOMEONE ALSO STRUGGLES WITH THE PERFECT PART   \n",
       "8  Dude for people trying to say her hair isn’t curly I could personally use every product she uses and more and do it the same way and my hair will not be curly I have straight hair she doesn’t lol she spoke straight facts   \n",
       "9                                                                                                                                 you know she’s pretty when she can pull off everything 💕\\n\\n\\ny’all be blowing up my phone 😭💀   \n",
       "\n",
       "   likeCount  relevance_score  \n",
       "0     456142    912209.470535  \n",
       "1     361860    723693.641991  \n",
       "2     236006    471927.330128  \n",
       "3     210116    420147.012792  \n",
       "4     194610    389164.050780  \n",
       "5     162767    325511.577481  \n",
       "6     143374    286671.274188  \n",
       "7     139006    277960.095769  \n",
       "8     138535    277002.861440  \n",
       "9     137338    274596.418533  "
      ]
     },
     "metadata": {},
     "output_type": "display_data"
    }
   ],
   "source": [
    "import pandas as pd\n",
    "\n",
    "# TEST: Calculate a relevance score\n",
    "# relevance score = (likeCount * 2) + (lengthOfComment * 0.01) - (ageInDays * 0.1)\n",
    "conn.sql(\"\"\"\n",
    "    UPDATE comments SET relevance_score =\n",
    "        COALESCE(likeCount, 0) * 2\n",
    "        + COALESCE(LENGTH(textOriginal), 0) * 0.01\n",
    "        + COALESCE(julian(CAST(now() AS TIMESTAMP)) - julian(CAST(publishedAt AS TIMESTAMP)), 0) * -0.1\n",
    "\"\"\")\n",
    "\n",
    "# View top relevant comments by the new score\n",
    "top_comments = conn.sql('SELECT commentId, textOriginal, likeCount, relevance_score FROM comments ORDER BY relevance_score DESC LIMIT 10').df()\n",
    "pd.set_option('display.max_colwidth', None)\n",
    "display(top_comments)"
   ]
  },
  {
   "cell_type": "code",
   "execution_count": 12,
   "id": "326e66a51a8ee15d",
   "metadata": {
    "ExecuteTime": {
     "end_time": "2025-09-04T12:24:28.369801Z",
     "start_time": "2025-09-04T12:24:28.315782Z"
    }
   },
   "outputs": [
    {
     "data": {
      "text/html": [
       "<div>\n",
       "<style scoped>\n",
       "    .dataframe tbody tr th:only-of-type {\n",
       "        vertical-align: middle;\n",
       "    }\n",
       "\n",
       "    .dataframe tbody tr th {\n",
       "        vertical-align: top;\n",
       "    }\n",
       "\n",
       "    .dataframe thead th {\n",
       "        text-align: right;\n",
       "    }\n",
       "</style>\n",
       "<table border=\"1\" class=\"dataframe\">\n",
       "  <thead>\n",
       "    <tr style=\"text-align: right;\">\n",
       "      <th></th>\n",
       "      <th>database</th>\n",
       "      <th>schema</th>\n",
       "      <th>name</th>\n",
       "      <th>column_names</th>\n",
       "      <th>column_types</th>\n",
       "      <th>temporary</th>\n",
       "    </tr>\n",
       "  </thead>\n",
       "  <tbody>\n",
       "    <tr>\n",
       "      <th>0</th>\n",
       "      <td>mydb</td>\n",
       "      <td>main</td>\n",
       "      <td>comments</td>\n",
       "      <td>[kind, commentId, channelId, videoId, authorId, textOriginal, parentCommentId, likeCount, publishedAt, updatedAt, relevance_score]</td>\n",
       "      <td>[VARCHAR, BIGINT, BIGINT, BIGINT, BIGINT, VARCHAR, BIGINT, BIGINT, TIMESTAMP WITH TIME ZONE, TIMESTAMP WITH TIME ZONE, DOUBLE]</td>\n",
       "      <td>False</td>\n",
       "    </tr>\n",
       "    <tr>\n",
       "      <th>1</th>\n",
       "      <td>mydb</td>\n",
       "      <td>main</td>\n",
       "      <td>videos</td>\n",
       "      <td>[kind, videoId, publishedAt, channelId, title, description, tags, defaultLanguage, defaultAudioLanguage, contentDuration, viewCount, likeCount, favouriteCount, commentCount, topicCategories]</td>\n",
       "      <td>[VARCHAR, BIGINT, TIMESTAMP WITH TIME ZONE, BIGINT, VARCHAR, VARCHAR, VARCHAR, VARCHAR, VARCHAR, VARCHAR, DOUBLE, DOUBLE, DOUBLE, DOUBLE, VARCHAR]</td>\n",
       "      <td>False</td>\n",
       "    </tr>\n",
       "  </tbody>\n",
       "</table>\n",
       "</div>"
      ],
      "text/plain": [
       "  database schema      name  \\\n",
       "0     mydb   main  comments   \n",
       "1     mydb   main    videos   \n",
       "\n",
       "                                                                                                                                                                                     column_names  \\\n",
       "0                                                              [kind, commentId, channelId, videoId, authorId, textOriginal, parentCommentId, likeCount, publishedAt, updatedAt, relevance_score]   \n",
       "1  [kind, videoId, publishedAt, channelId, title, description, tags, defaultLanguage, defaultAudioLanguage, contentDuration, viewCount, likeCount, favouriteCount, commentCount, topicCategories]   \n",
       "\n",
       "                                                                                                                                         column_types  \\\n",
       "0                      [VARCHAR, BIGINT, BIGINT, BIGINT, BIGINT, VARCHAR, BIGINT, BIGINT, TIMESTAMP WITH TIME ZONE, TIMESTAMP WITH TIME ZONE, DOUBLE]   \n",
       "1  [VARCHAR, BIGINT, TIMESTAMP WITH TIME ZONE, BIGINT, VARCHAR, VARCHAR, VARCHAR, VARCHAR, VARCHAR, VARCHAR, DOUBLE, DOUBLE, DOUBLE, DOUBLE, VARCHAR]   \n",
       "\n",
       "   temporary  \n",
       "0      False  \n",
       "1      False  "
      ]
     },
     "execution_count": 12,
     "metadata": {},
     "output_type": "execute_result"
    }
   ],
   "source": [
    "conn.sql('SHOW ALL TABLES').df()"
   ]
  },
  {
   "cell_type": "code",
   "execution_count": null,
   "id": "3ab868e84bf2eba8",
   "metadata": {
    "ExecuteTime": {
     "end_time": "2025-09-04T07:50:37.307209Z",
     "start_time": "2025-09-04T07:50:37.285227Z"
    }
   },
   "outputs": [],
   "source": [
    "conn.sql('select * from comments limit 100').df()\n"
   ]
  },
  {
   "cell_type": "code",
   "execution_count": null,
   "id": "3abe54fec44e0f6",
   "metadata": {
    "ExecuteTime": {
     "end_time": "2025-09-04T07:54:23.733382Z",
     "start_time": "2025-09-04T07:54:23.694378Z"
    }
   },
   "outputs": [],
   "source": [
    "conn.sql('drop table comments')"
   ]
  },
  {
   "cell_type": "code",
   "execution_count": null,
   "id": "3757733f90d4e4d4",
   "metadata": {
    "ExecuteTime": {
     "end_time": "2025-09-04T07:54:56.414721Z",
     "start_time": "2025-09-04T07:54:56.380869Z"
    }
   },
   "outputs": [],
   "source": [
    "conn.sql('describe comments').df()"
   ]
  },
  {
   "cell_type": "code",
   "execution_count": null,
   "id": "46f6489d7f8ed29",
   "metadata": {
    "ExecuteTime": {
     "end_time": "2025-09-04T07:58:41.336800Z",
     "start_time": "2025-09-04T07:58:41.303749Z"
    }
   },
   "outputs": [],
   "source": [
    "conn.sql('select count(*) from comments').df()"
   ]
  },
  {
   "cell_type": "code",
   "execution_count": null,
   "id": "e7cd4f6c1c86ad2f",
   "metadata": {
    "ExecuteTime": {
     "end_time": "2025-09-04T10:37:08.607818Z",
     "start_time": "2025-09-04T10:37:07.910201Z"
    }
   },
   "outputs": [],
   "source": [
    "conn.sql(\"select * from comments where videoId='1265'\").df()"
   ]
  },
  {
   "cell_type": "code",
   "execution_count": null,
   "id": "f03251cdf8b559e1",
   "metadata": {
    "ExecuteTime": {
     "end_time": "2025-09-04T12:46:41.692143Z",
     "start_time": "2025-09-04T12:45:50.779789Z"
    }
   },
   "outputs": [],
   "source": [
    "\n",
    "conn.sql('select * from comments').df()"
   ]
  },
  {
   "cell_type": "markdown",
   "id": "c665f92f7aa15a4a",
   "metadata": {},
   "source": []
  },
  {
   "cell_type": "code",
   "execution_count": null,
   "id": "d39b467151fae243",
   "metadata": {
    "ExecuteTime": {
     "end_time": "2025-09-04T12:20:06.669284Z",
     "start_time": "2025-09-04T12:20:06.591708Z"
    }
   },
   "outputs": [],
   "source": [
    "# Explore the videos table\n",
    "conn.sql('select * from videos limit 100').df()\n",
    "\n"
   ]
  },
  {
   "cell_type": "code",
   "execution_count": null,
   "id": "15cf415040118c11",
   "metadata": {
    "ExecuteTime": {
     "end_time": "2025-09-04T12:20:18.971691Z",
     "start_time": "2025-09-04T12:20:18.963465Z"
    }
   },
   "outputs": [],
   "source": [
    "conn.sql('describe videos').df()"
   ]
  },
  {
   "cell_type": "code",
   "execution_count": null,
   "id": "dcb6f2c5dbb4f9f7",
   "metadata": {
    "ExecuteTime": {
     "end_time": "2025-09-04T12:23:11.122937Z",
     "start_time": "2025-09-04T12:23:10.880143Z"
    }
   },
   "outputs": [],
   "source": [
    "conn.sql('select * from videos').df()"
   ]
  },
  {
   "cell_type": "code",
   "execution_count": null,
   "id": "f1fc3088089bebfa",
   "metadata": {
    "ExecuteTime": {
     "end_time": "2025-09-04T12:25:31.968176Z",
     "start_time": "2025-09-04T12:25:28.936076Z"
    }
   },
   "outputs": [],
   "source": [
    "video_df = conn.sql('select * from videos').df()\n",
    "comment_df = conn.sql('select * from comments').df()"
   ]
  },
  {
   "cell_type": "code",
   "execution_count": null,
   "id": "881fa30d83bd118a",
   "metadata": {
    "ExecuteTime": {
     "end_time": "2025-09-04T12:29:58.616579Z",
     "start_time": "2025-09-04T12:26:12.355634Z"
    }
   },
   "outputs": [],
   "source": [
    "# Join comments with videos on videoId\n",
    "joined_df = conn.sql('''\n",
    "SELECT c.*, v.*\n",
    "FROM comments c\n",
    "JOIN videos v ON c.videoId = v.videoId\n",
    "''').df()"
   ]
  },
  {
   "cell_type": "code",
   "execution_count": null,
   "id": "9cd7ae05150a8bc1",
   "metadata": {
    "ExecuteTime": {
     "end_time": "2025-09-04T12:37:36.857488Z",
     "start_time": "2025-09-04T12:37:36.616692Z"
    }
   },
   "outputs": [],
   "source": [
    "# Display the joined DataFrame\n",
    "pd.set_option('display.max_rows', None)      # Show all rows\n",
    "pd.set_option('display.max_columns', None)   # Show all columns\n",
    "# show all rows and columns\n",
    "joined_df.head(1000)"
   ]
  },
  {
   "cell_type": "code",
   "execution_count": null,
   "id": "e0eb14bfb04c966f",
   "metadata": {
    "ExecuteTime": {
     "end_time": "2025-09-04T12:47:47.651308Z",
     "start_time": "2025-09-04T12:46:56.568289Z"
    }
   },
   "outputs": [],
   "source": [
    "# Drop unnecessary columns\n",
    "cleaned_df = joined_df.drop(columns=['kind', 'kind_1', 'videoId_1', 'publishedAt_1', 'channelId_1', 'likeCount_1'])"
   ]
  },
  {
   "cell_type": "code",
   "execution_count": null,
   "id": "89e68a200963ace4",
   "metadata": {
    "ExecuteTime": {
     "end_time": "2025-09-04T12:47:47.848146Z",
     "start_time": "2025-09-04T12:47:47.779034Z"
    }
   },
   "outputs": [],
   "source": [
    "cleaned_df.head(100)"
   ]
  },
  {
   "cell_type": "code",
   "execution_count": null,
   "id": "47e5213e7f368dc",
   "metadata": {
    "ExecuteTime": {
     "end_time": "2025-09-04T12:56:10.108255Z",
     "start_time": "2025-09-04T12:55:27.820736Z"
    }
   },
   "outputs": [],
   "source": [
    "# count the number of null values in contentDuration column\n",
    "for column in cleaned_df.columns:\n",
    "    num_nulls = cleaned_df[column].isnull().sum()\n",
    "    print(f\"The number of null values in {column} column is: {num_nulls}\")\n"
   ]
  },
  {
   "cell_type": "code",
   "execution_count": null,
   "id": "784891fcc963750c",
   "metadata": {
    "ExecuteTime": {
     "end_time": "2025-09-04T12:56:50.827367Z",
     "start_time": "2025-09-04T12:56:50.809289Z"
    }
   },
   "outputs": [],
   "source": [
    "# Convert the contentDuration column to total seconds from ISO 8601 format\n",
    "cleaned_df.shape"
   ]
  }
 ],
 "metadata": {
  "language_info": {
   "name": "python"
  }
 },
 "nbformat": 4,
 "nbformat_minor": 5
}
