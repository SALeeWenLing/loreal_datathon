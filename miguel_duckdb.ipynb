{
 "cells": [
  {
   "metadata": {
    "ExecuteTime": {
     "end_time": "2025-09-13T02:53:13.311492Z",
     "start_time": "2025-09-13T02:53:10.008994Z"
    }
   },
   "cell_type": "code",
   "source": [
    "\n",
    "\n",
    "from sklearn.feature_extraction.text import TfidfVectorizer\n",
    "from concurrent.futures import ThreadPoolExecutor\n",
    "import emoji\n",
    "\n",
    "DB_FILE = \"loreal_datathon.duckdb\"\n",
    "import tqdm\n",
    "import os\n",
    "import re\n",
    "import duckdb\n",
    "import pandas as pd\n",
    "import nltk\n",
    "from nltk.sentiment.vader import SentimentIntensityAnalyzer\n",
    "from sentence_transformers import SentenceTransformer\n",
    "from sklearn.cluster import KMeans\n",
    "from sklearn.metrics.pairwise import cosine_similarity\n",
    "import matplotlib.pyplot as plt\n",
    "import seaborn as sns\n",
    "\n",
    "nltk.download('vader_lexicon')\n",
    "\n",
    "# ----------------------------\n",
    "# DB Connection\n",
    "# ----------------------------\n",
    "def connect_db(db_path=None):\n",
    "    if db_path is None:\n",
    "        script_dir = os.getcwd()  # safe for notebooks\n",
    "        db_path = os.path.join(script_dir, \"loreal_datathon.duckdb\")\n",
    "    print(f\"[DEBUG] Connecting to database at: {db_path}\")\n",
    "    return duckdb.connect(db_path)\n",
    "\n",
    "\n",
    "# ----------------------------\n",
    "# Load comments with optional video metadata\n",
    "# ----------------------------\n",
    "def load_comments(conn, include_video_info=True, chunk_size=100000):\n",
    "    \"\"\"\n",
    "    Load comments from DuckDB in chunks with a progress bar.\n",
    "\n",
    "    Args:\n",
    "        conn: DuckDB connection.\n",
    "        include_video_info (bool): Whether to join videos table.\n",
    "        chunk_size (int): Number of rows per batch.\n",
    "\n",
    "    Returns:\n",
    "        pd.DataFrame: All comments loaded and converted to DataFrame.\n",
    "    \"\"\"\n",
    "    print(\"[DEBUG] Loading comments...\")\n",
    "\n",
    "    if include_video_info:\n",
    "        query = \"\"\"\n",
    "            SELECT c.commentId, c.textOriginal, c.publishedAt, c.videoId, c.channelId,\n",
    "                   v.title, v.viewCount, v.likeCount\n",
    "            FROM comments c\n",
    "            JOIN videos v ON c.videoId = v.videoId\n",
    "        \"\"\"\n",
    "    else:\n",
    "        query = \"SELECT commentId, textOriginal, publishedAt, videoId, channelId FROM comments\"\n",
    "\n",
    "    # Count total rows to show progress\n",
    "    total_rows = conn.execute(f\"SELECT COUNT(*) FROM ({query})\").fetchone()[0]\n",
    "    print(f\"[DEBUG] Total comments to load: {total_rows}\")\n",
    "\n",
    "    dfs = []\n",
    "    offset = 0\n",
    "\n",
    "    # Use tqdm to show progress\n",
    "    with tqdm.tqdm(total=total_rows, desc=\"Loading comments\") as pbar:\n",
    "        while offset < total_rows:\n",
    "            chunk_query = f\"{query} LIMIT {chunk_size} OFFSET {offset}\"\n",
    "            chunk_df = conn.execute(chunk_query).fetchdf()\n",
    "            dfs.append(chunk_df)\n",
    "            offset += len(chunk_df)\n",
    "            pbar.update(len(chunk_df))\n",
    "\n",
    "    df = pd.concat(dfs, ignore_index=True)\n",
    "    df['publishedAt'] = pd.to_datetime(df['publishedAt'])\n",
    "    print(f\"[DEBUG] Loaded {len(df)} comments in total\")\n",
    "    return df\n",
    "\n",
    "# ----------------------------\n",
    "# Text Cleaning\n",
    "# ----------------------------\n",
    "def preprocess_comments(df):\n",
    "    print(\"[DEBUG] Preprocessing comments...\")\n",
    "    df['clean_text'] = df['textOriginal'].apply(clean_text)\n",
    "    print(\"[DEBUG] Sample cleaned comment:\", df['clean_text'].iloc[0])\n",
    "    return df\n",
    "\n",
    "\n",
    "# ----------------------------\n",
    "# Sentiment Analysis\n",
    "# ----------------------------\n",
    "def analyze_sentiment(df):\n",
    "    print(\"[DEBUG] Analyzing sentiment...\")\n",
    "    sid = SentimentIntensityAnalyzer()\n",
    "    df['sentiment_score'] = df['clean_text'].apply(lambda x: sid.polarity_scores(x)['compound'])\n",
    "    df['sentiment_label'] = df['sentiment_score'].apply(\n",
    "        lambda x: 'positive' if x > 0.05 else ('negative' if x < -0.05 else 'neutral')\n",
    "    )\n",
    "    print(\"[DEBUG] Sample sentiment scores:\", df[['sentiment_score', 'sentiment_label']].head())\n",
    "    return df\n",
    "\n",
    "def generate_embeddings(df, max_features=512):\n",
    "    vectorizer = TfidfVectorizer(max_features=max_features)\n",
    "    embeddings = vectorizer.fit_transform(df['clean_text'])\n",
    "    return embeddings, vectorizer\n",
    "\n",
    "\n",
    "# ----------------------------\n",
    "# Cluster Comments\n",
    "# ----------------------------\n",
    "def cluster_comments(df, embeddings, n_clusters=10):\n",
    "    print(f\"[DEBUG] Clustering comments into {n_clusters} clusters...\")\n",
    "    kmeans = KMeans(n_clusters=n_clusters, random_state=42)\n",
    "    df['cluster'] = kmeans.fit_predict(embeddings)\n",
    "    print(\"[DEBUG] Sample clusters:\", df['cluster'].value_counts())\n",
    "    return df, kmeans\n",
    "\n",
    "\n",
    "# ----------------------------\n",
    "# Trend Analysis\n",
    "# ----------------------------\n",
    "def sentiment_trends(df, min_comments_per_day=10, rolling_window=7):\n",
    "    print(\"[DEBUG] Calculating sentiment trends...\")\n",
    "    df = df.copy()\n",
    "    df['publishedAt'] = pd.to_datetime(df['publishedAt'])\n",
    "    df.set_index('publishedAt', inplace=True)\n",
    "\n",
    "    daily_counts = df['sentiment_score'].resample('D').count()\n",
    "    avg_daily_comments = daily_counts.mean()\n",
    "    print(f\"[DEBUG] Average daily comments: {avg_daily_comments:.2f}\")\n",
    "\n",
    "    if avg_daily_comments >= min_comments_per_day:\n",
    "        sentiment = df['sentiment_score'].resample('D').mean()\n",
    "        print(\"[DEBUG] Using daily aggregation\")\n",
    "    else:\n",
    "        sentiment = df['sentiment_score'].resample('W').mean()\n",
    "        print(\"[DEBUG] Using weekly aggregation\")\n",
    "\n",
    "    if rolling_window:\n",
    "        sentiment = sentiment.rolling(rolling_window, min_periods=1).mean()\n",
    "\n",
    "    print(\"[DEBUG] Sample sentiment trend:\", sentiment.head())\n",
    "    return sentiment\n",
    "\n",
    "\n",
    "def sentiment_per_video(df):\n",
    "    print(\"[DEBUG] Aggregating sentiment per video...\")\n",
    "    result = df.groupby('videoId').agg(\n",
    "        avg_sentiment=('sentiment_score', 'mean'),\n",
    "        comment_count=('commentId', 'count'),\n",
    "        title=('title', 'first'),\n",
    "        viewCount=('viewCount', 'first')\n",
    "    ).reset_index()\n",
    "    print(f\"[DEBUG] Processed {len(result)} videos\")\n",
    "    return result\n",
    "\n",
    "\n",
    "def sentiment_per_channel(df):\n",
    "    print(\"[DEBUG] Aggregating sentiment per channel...\")\n",
    "    result = df.groupby('channelId').agg(\n",
    "        avg_sentiment=('sentiment_score', 'mean'),\n",
    "        total_comments=('commentId', 'count'),\n",
    "        total_views=('viewCount', 'sum'),\n",
    "        total_likes=('likeCount', 'sum')\n",
    "    ).reset_index()\n",
    "    print(f\"[DEBUG] Processed {len(result)} channels\")\n",
    "    return result\n",
    "\n",
    "def clean_text(text):\n",
    "    if not text:\n",
    "        return \"\"\n",
    "    text = re.sub(r\"http\\S+\", \"\", text)         # remove URLs\n",
    "    text = emoji.replace_emoji(text, replace=\"\") # remove emojis\n",
    "    text = re.sub(r\"[^a-zA-Z0-9\\s]\", \"\", text) # remove punctuation\n",
    "    return text.lower().strip()\n",
    "\n",
    "\n"
   ],
   "id": "2e8e8c4156e14311",
   "outputs": [
    {
     "name": "stderr",
     "output_type": "stream",
     "text": [
      "[nltk_data] Downloading package vader_lexicon to\n",
      "[nltk_data]     /Users/andrevarilla/nltk_data...\n",
      "[nltk_data]   Package vader_lexicon is already up-to-date!\n"
     ]
    }
   ],
   "execution_count": 1
  },
  {
   "metadata": {
    "ExecuteTime": {
     "end_time": "2025-09-13T01:52:45.150603Z",
     "start_time": "2025-09-13T01:52:40.890652Z"
    }
   },
   "cell_type": "code",
   "source": [
    "# ----------------------------\n",
    "# 1️⃣ DB Connection & Load Comments\n",
    "# ----------------------------\n",
    "print(\"[DEBUG] Connecting to database...\")\n",
    "script_dir = os.getcwd()  # current working directory\n",
    "DB_FILE = os.path.join(script_dir, \"loreal_datathon.duckdb\")  # adjust path if needed\n",
    "\n",
    "conn = connect_db(db_path=DB_FILE)\n",
    "\n",
    "print(\"[DEBUG] Loading comments...\")\n",
    "df = load_comments(conn, include_video_info=True)\n",
    "\n",
    "conn.close()\n",
    "print(f\"[DEBUG] Loaded {len(df)} comments\")\n",
    "df.head()"
   ],
   "id": "ed4e035161d79a52",
   "outputs": [
    {
     "name": "stdout",
     "output_type": "stream",
     "text": [
      "[DEBUG] Connecting to database...\n",
      "[DEBUG] Connecting to database at: /Users/andrevarilla/Git Repos/loreal_datathon/loreal_datathon.duckdb\n",
      "[DEBUG] Loading comments...\n",
      "[DEBUG] Loading comments...\n",
      "[DEBUG] Total comments to load: 4723483\n"
     ]
    },
    {
     "name": "stderr",
     "output_type": "stream",
     "text": [
      "Loading comments: 100%|██████████| 4723483/4723483 [00:03<00:00, 1298542.73it/s]\n"
     ]
    },
    {
     "name": "stdout",
     "output_type": "stream",
     "text": [
      "[DEBUG] Loaded 4723483 comments in total\n",
      "[DEBUG] Loaded 4723483 comments\n"
     ]
    },
    {
     "data": {
      "text/plain": [
       "   commentId                                       textOriginal  \\\n",
       "0    2552732  I hope this ain’t seen as rude or smth but I s...   \n",
       "1    2552817                           okay you are so pretty😭💗   \n",
       "2    2552840                       You can do it Too, Belive it   \n",
       "3    2552850             Can I just say you’re really pretty 😌💅   \n",
       "4    2552909  This is so sad or think that she only a wife h...   \n",
       "\n",
       "          publishedAt  videoId channelId  \\\n",
       "0 2025-05-05 09:07:26    52362     32921   \n",
       "1 2024-07-11 07:41:59    68637     21411   \n",
       "2 2022-05-24 01:06:13    40805     45539   \n",
       "3 2021-05-13 08:26:37    43866     32659   \n",
       "4 2021-09-20 14:38:13    90030     25950   \n",
       "\n",
       "                                               title  viewCount  likeCount  \n",
       "0                        #grwm to go target #fashion   42999888    1333427  \n",
       "1                              YOU WONT BELIEVE THIS   33422556    1953065  \n",
       "2  BEFORE I LEARNED HOW TO TAKE CARE OF MY HAIR #...    3187503     115943  \n",
       "3                          CONTOUR HACK TIKTOK TREND     104109       2357  \n",
       "4                          Pov you’re a girl #shorts   11443295     814810  "
      ],
      "text/html": [
       "<div>\n",
       "<style scoped>\n",
       "    .dataframe tbody tr th:only-of-type {\n",
       "        vertical-align: middle;\n",
       "    }\n",
       "\n",
       "    .dataframe tbody tr th {\n",
       "        vertical-align: top;\n",
       "    }\n",
       "\n",
       "    .dataframe thead th {\n",
       "        text-align: right;\n",
       "    }\n",
       "</style>\n",
       "<table border=\"1\" class=\"dataframe\">\n",
       "  <thead>\n",
       "    <tr style=\"text-align: right;\">\n",
       "      <th></th>\n",
       "      <th>commentId</th>\n",
       "      <th>textOriginal</th>\n",
       "      <th>publishedAt</th>\n",
       "      <th>videoId</th>\n",
       "      <th>channelId</th>\n",
       "      <th>title</th>\n",
       "      <th>viewCount</th>\n",
       "      <th>likeCount</th>\n",
       "    </tr>\n",
       "  </thead>\n",
       "  <tbody>\n",
       "    <tr>\n",
       "      <th>0</th>\n",
       "      <td>2552732</td>\n",
       "      <td>I hope this ain’t seen as rude or smth but I s...</td>\n",
       "      <td>2025-05-05 09:07:26</td>\n",
       "      <td>52362</td>\n",
       "      <td>32921</td>\n",
       "      <td>#grwm to go target #fashion</td>\n",
       "      <td>42999888</td>\n",
       "      <td>1333427</td>\n",
       "    </tr>\n",
       "    <tr>\n",
       "      <th>1</th>\n",
       "      <td>2552817</td>\n",
       "      <td>okay you are so pretty😭💗</td>\n",
       "      <td>2024-07-11 07:41:59</td>\n",
       "      <td>68637</td>\n",
       "      <td>21411</td>\n",
       "      <td>YOU WONT BELIEVE THIS</td>\n",
       "      <td>33422556</td>\n",
       "      <td>1953065</td>\n",
       "    </tr>\n",
       "    <tr>\n",
       "      <th>2</th>\n",
       "      <td>2552840</td>\n",
       "      <td>You can do it Too, Belive it</td>\n",
       "      <td>2022-05-24 01:06:13</td>\n",
       "      <td>40805</td>\n",
       "      <td>45539</td>\n",
       "      <td>BEFORE I LEARNED HOW TO TAKE CARE OF MY HAIR #...</td>\n",
       "      <td>3187503</td>\n",
       "      <td>115943</td>\n",
       "    </tr>\n",
       "    <tr>\n",
       "      <th>3</th>\n",
       "      <td>2552850</td>\n",
       "      <td>Can I just say you’re really pretty 😌💅</td>\n",
       "      <td>2021-05-13 08:26:37</td>\n",
       "      <td>43866</td>\n",
       "      <td>32659</td>\n",
       "      <td>CONTOUR HACK TIKTOK TREND</td>\n",
       "      <td>104109</td>\n",
       "      <td>2357</td>\n",
       "    </tr>\n",
       "    <tr>\n",
       "      <th>4</th>\n",
       "      <td>2552909</td>\n",
       "      <td>This is so sad or think that she only a wife h...</td>\n",
       "      <td>2021-09-20 14:38:13</td>\n",
       "      <td>90030</td>\n",
       "      <td>25950</td>\n",
       "      <td>Pov you’re a girl #shorts</td>\n",
       "      <td>11443295</td>\n",
       "      <td>814810</td>\n",
       "    </tr>\n",
       "  </tbody>\n",
       "</table>\n",
       "</div>"
      ]
     },
     "execution_count": 8,
     "metadata": {},
     "output_type": "execute_result"
    }
   ],
   "execution_count": 8
  },
  {
   "metadata": {
    "ExecuteTime": {
     "end_time": "2025-09-13T01:54:17.864110Z",
     "start_time": "2025-09-13T01:52:45.186576Z"
    }
   },
   "cell_type": "code",
   "source": [
    "# ----------------------------\n",
    "# 2️⃣ Preprocess Comments\n",
    "# ----------------------------\n",
    "print(\"[DEBUG] Preprocessing comments...\")\n",
    "df = preprocess_comments(df)\n",
    "\n",
    "print(\"[DEBUG] Sample cleaned comment:\")\n",
    "print(df[['textOriginal', 'clean_text']].head())"
   ],
   "id": "21a185631d7b1a40",
   "outputs": [
    {
     "name": "stdout",
     "output_type": "stream",
     "text": [
      "[DEBUG] Preprocessing comments...\n",
      "[DEBUG] Preprocessing comments...\n",
      "[DEBUG] Sample cleaned comment: i hope this aint seen as rude or smth but i saw you and heard you voice and its so calming 333\n",
      "[DEBUG] Sample cleaned comment:\n",
      "                                        textOriginal  \\\n",
      "0  I hope this ain’t seen as rude or smth but I s...   \n",
      "1                           okay you are so pretty😭💗   \n",
      "2                       You can do it Too, Belive it   \n",
      "3             Can I just say you’re really pretty 😌💅   \n",
      "4  This is so sad or think that she only a wife h...   \n",
      "\n",
      "                                          clean_text  \n",
      "0  i hope this aint seen as rude or smth but i sa...  \n",
      "1                             okay you are so pretty  \n",
      "2                        you can do it too belive it  \n",
      "3                 can i just say youre really pretty  \n",
      "4  this is so sad or think that she only a wife h...  \n"
     ]
    }
   ],
   "execution_count": 9
  },
  {
   "metadata": {
    "ExecuteTime": {
     "end_time": "2025-09-13T01:57:35.775695Z",
     "start_time": "2025-09-13T01:54:17.931834Z"
    }
   },
   "cell_type": "code",
   "source": [
    "# ----------------------------\n",
    "# 3️⃣ Sentiment Analysis\n",
    "# ----------------------------\n",
    "print(\"[DEBUG] Analyzing sentiment...\")\n",
    "df = analyze_sentiment(df)\n",
    "\n",
    "print(\"[DEBUG] Sentiment sample:\")\n",
    "print(df[['clean_text', 'sentiment_score', 'sentiment_label']].head())"
   ],
   "id": "17bd013ab4e1fb8a",
   "outputs": [
    {
     "name": "stdout",
     "output_type": "stream",
     "text": [
      "[DEBUG] Analyzing sentiment...\n",
      "[DEBUG] Analyzing sentiment...\n",
      "[DEBUG] Sample sentiment scores:    sentiment_score sentiment_label\n",
      "0           0.8140        positive\n",
      "1           0.7198        positive\n",
      "2           0.0000         neutral\n",
      "3           0.5413        positive\n",
      "4          -0.6113        negative\n",
      "[DEBUG] Sentiment sample:\n",
      "                                          clean_text  sentiment_score  \\\n",
      "0  i hope this aint seen as rude or smth but i sa...           0.8140   \n",
      "1                             okay you are so pretty           0.7198   \n",
      "2                        you can do it too belive it           0.0000   \n",
      "3                 can i just say youre really pretty           0.5413   \n",
      "4  this is so sad or think that she only a wife h...          -0.6113   \n",
      "\n",
      "  sentiment_label  \n",
      "0        positive  \n",
      "1        positive  \n",
      "2         neutral  \n",
      "3        positive  \n",
      "4        negative  \n"
     ]
    }
   ],
   "execution_count": 10
  },
  {
   "metadata": {
    "ExecuteTime": {
     "end_time": "2025-09-13T01:57:41.762599Z",
     "start_time": "2025-09-13T01:57:35.794890Z"
    }
   },
   "cell_type": "code",
   "source": [
    "# save to duckdb\n",
    "conn = connect_db(db_path=DB_FILE)\n",
    "conn.register('df_comments', df)\n",
    "conn.sql(\"CREATE OR REPLACE TABLE comments_processed AS SELECT * FROM df_comments\")\n",
    "conn.close()"
   ],
   "id": "28733b95af4b1895",
   "outputs": [
    {
     "name": "stdout",
     "output_type": "stream",
     "text": [
      "[DEBUG] Connecting to database at: /Users/andrevarilla/Git Repos/loreal_datathon/loreal_datathon.duckdb\n"
     ]
    },
    {
     "data": {
      "text/plain": [
       "FloatProgress(value=0.0, layout=Layout(width='auto'), style=ProgressStyle(bar_color='black'))"
      ],
      "application/vnd.jupyter.widget-view+json": {
       "version_major": 2,
       "version_minor": 0,
       "model_id": "410c9b3e26654a8e812e96ca14e91629"
      }
     },
     "metadata": {},
     "output_type": "display_data"
    }
   ],
   "execution_count": 11
  },
  {
   "metadata": {
    "ExecuteTime": {
     "end_time": "2025-09-13T01:58:13.736326Z",
     "start_time": "2025-09-13T01:57:41.776707Z"
    }
   },
   "cell_type": "code",
   "source": [
    "# ----------------------------\n",
    "# Generate embeddings with commentId\n",
    "# ----------------------------\n",
    "print(\"[DEBUG] Starting TF-IDF embeddings generation...\")\n",
    "df_embeddings, vectorizer = generate_embeddings(df)\n",
    "print(f\"[DEBUG] Embeddings generated: {df_embeddings.shape[0]} rows, sample embedding length: {len(df_embeddings['embedding'].iloc[0])}\")\n",
    "\n",
    "# ----------------------------\n",
    "# Check a sample of the main dataframe\n",
    "# ----------------------------\n",
    "print(\"[DEBUG] Sample of main DataFrame before merge:\")\n",
    "print(df[['commentId', 'clean_text']].head())\n",
    "\n",
    "# ----------------------------\n",
    "# Merge embeddings back\n",
    "# ----------------------------\n",
    "df = df.merge(df_embeddings, on='commentId')\n",
    "print(\"[DEBUG] DataFrame after merging embeddings:\")\n",
    "print(df[['commentId', 'clean_text', 'embedding']].head())\n",
    "\n",
    "# ----------------------------\n",
    "# check total rows\n",
    "# ----------------------------\n",
    "print(f\"[DEBUG] Total comments after merge: {len(df)}\")\n"
   ],
   "id": "a2c345ef8d21c898",
   "outputs": [
    {
     "name": "stdout",
     "output_type": "stream",
     "text": [
      "[DEBUG] Starting TF-IDF embeddings generation...\n",
      "[DEBUG] Embeddings generated: 4723483 rows, sample embedding length: 512\n",
      "[DEBUG] Sample of main DataFrame before merge:\n",
      "   commentId                                         clean_text\n",
      "0    2552732  i hope this aint seen as rude or smth but i sa...\n",
      "1    2552817                             okay you are so pretty\n",
      "2    2552840                        you can do it too belive it\n",
      "3    2552850                 can i just say youre really pretty\n",
      "4    2552909  this is so sad or think that she only a wife h...\n",
      "[DEBUG] DataFrame after merging embeddings:\n",
      "   commentId                                         clean_text  \\\n",
      "0    2552732  i hope this aint seen as rude or smth but i sa...   \n",
      "1    2552817                             okay you are so pretty   \n",
      "2    2552840                        you can do it too belive it   \n",
      "3    2552850                 can i just say youre really pretty   \n",
      "4    2552909  this is so sad or think that she only a wife h...   \n",
      "\n",
      "                                           embedding  \n",
      "0  [0.0, 0.0, 0.0, 0.0, 0.0, 0.0, 0.0, 0.0, 0.0, ...  \n",
      "1  [0.0, 0.0, 0.0, 0.0, 0.0, 0.0, 0.0, 0.0, 0.0, ...  \n",
      "2  [0.0, 0.0, 0.0, 0.0, 0.0, 0.0, 0.0, 0.0, 0.0, ...  \n",
      "3  [0.0, 0.0, 0.0, 0.0, 0.0, 0.0, 0.0, 0.0, 0.0, ...  \n",
      "4  [0.0, 0.0, 0.0, 0.0, 0.0, 0.0, 0.0, 0.0, 0.0, ...  \n",
      "[DEBUG] Total comments after merge: 8036239\n"
     ]
    }
   ],
   "execution_count": 12
  },
  {
   "metadata": {
    "ExecuteTime": {
     "end_time": "2025-09-13T02:06:42.188391Z",
     "start_time": "2025-09-13T02:02:45.553380Z"
    }
   },
   "cell_type": "code",
   "source": [
    "# add the embeddings to the duckdb to the existing comments_processed table\n",
    "conn = connect_db(db_path=DB_FILE)\n",
    "conn.register('df_comments', df)\n",
    "# Add the column if it doesn't exist\n",
    "conn.execute(\"\"\"\n",
    "ALTER TABLE comments_processed ADD COLUMN IF NOT EXISTS embedding FLOAT[]\n",
    "\"\"\")\n",
    "\n",
    "# Update rows by joining on commentId\n",
    "conn.execute(\"\"\"\n",
    "UPDATE comments_processed\n",
    "SET embedding = df_comments.embedding\n",
    "FROM df_comments\n",
    "WHERE comments_processed.commentId = df_comments.commentId\n",
    "\"\"\")\n",
    "conn.close()\n"
   ],
   "id": "d6fdb09edf796dda",
   "outputs": [
    {
     "name": "stdout",
     "output_type": "stream",
     "text": [
      "[DEBUG] Connecting to database at: /Users/andrevarilla/Git Repos/loreal_datathon/loreal_datathon.duckdb\n"
     ]
    },
    {
     "data": {
      "text/plain": [
       "FloatProgress(value=0.0, layout=Layout(width='auto'), style=ProgressStyle(bar_color='black'))"
      ],
      "application/vnd.jupyter.widget-view+json": {
       "version_major": 2,
       "version_minor": 0,
       "model_id": "4a4b22e4b8274a21ade9360ad523b08f"
      }
     },
     "metadata": {},
     "output_type": "display_data"
    }
   ],
   "execution_count": 14
  },
  {
   "metadata": {
    "ExecuteTime": {
     "end_time": "2025-09-13T02:58:20.957350Z",
     "start_time": "2025-09-13T02:58:13.203358Z"
    }
   },
   "cell_type": "code",
   "source": [
    "# get comments_processed from duckdb\n",
    "conn = connect_db(db_path=DB_FILE)\n",
    "df = conn.sql(\"SELECT * FROM comments_processed\").df()\n",
    "\n"
   ],
   "id": "f03c5f8da219b0e2",
   "outputs": [
    {
     "name": "stdout",
     "output_type": "stream",
     "text": [
      "[DEBUG] Connecting to database at: loreal_datathon.duckdb\n"
     ]
    }
   ],
   "execution_count": 12
  },
  {
   "metadata": {
    "ExecuteTime": {
     "end_time": "2025-09-13T02:57:40.373302Z",
     "start_time": "2025-09-13T02:57:40.349210Z"
    }
   },
   "cell_type": "code",
   "source": [
    "\n",
    "# drop embedding in duckdb\n",
    "conn.execute(\"\"\"\n",
    "ALTER TABLE comments_processed DROP COLUMN IF EXISTS embedding\n",
    "\"\"\")\n"
   ],
   "id": "4afb08a7f05aa7b9",
   "outputs": [
    {
     "data": {
      "text/plain": [
       "<duckdb.duckdb.DuckDBPyConnection at 0x14e8731b0>"
      ]
     },
     "execution_count": 10,
     "metadata": {},
     "output_type": "execute_result"
    }
   ],
   "execution_count": 10
  },
  {
   "metadata": {
    "ExecuteTime": {
     "end_time": "2025-09-13T02:59:06.702403Z",
     "start_time": "2025-09-13T02:58:47.016833Z"
    }
   },
   "cell_type": "code",
   "source": [
    "from sklearn.feature_extraction.text import TfidfVectorizer\n",
    "from sklearn.decomposition import TruncatedSVD\n",
    "from sklearn.cluster import MiniBatchKMeans\n",
    "import numpy as np\n",
    "from tqdm import tqdm\n",
    "\n",
    "# 1. Compute TF-IDF sparse matrix (keep sparse)\n",
    "print(\"[DEBUG] Generating TF-IDF sparse matrix...\")\n",
    "vectorizer = TfidfVectorizer(max_features=512)\n",
    "X_sparse = vectorizer.fit_transform(df['clean_text'])\n",
    "print(\"[DEBUG] TF-IDF sparse shape:\", X_sparse.shape)\n",
    "\n",
    "sample_size = min(500_000, X_sparse.shape[0])  # e.g. 500k\n",
    "idx = np.random.choice(X_sparse.shape[0], sample_size, replace=False)\n",
    "X_sample = X_sparse[idx]\n"
   ],
   "id": "990e3b1e29d32467",
   "outputs": [
    {
     "name": "stdout",
     "output_type": "stream",
     "text": [
      "[DEBUG] Generating TF-IDF sparse matrix...\n",
      "[DEBUG] TF-IDF sparse shape: (4723483, 512)\n"
     ]
    }
   ],
   "execution_count": 13
  },
  {
   "metadata": {
    "ExecuteTime": {
     "end_time": "2025-09-13T02:59:50.053633Z",
     "start_time": "2025-09-13T02:59:50.046297Z"
    }
   },
   "cell_type": "code",
   "source": [
    "# 3. Dimensionality reduction with TruncatedSVD\n",
    "n_components = 50\n",
    "print(f\"[DEBUG] Reducing to {n_components} dimensions with SVD...\")\n",
    "svd = TruncatedSVD(n_components=n_components, random_state=42)"
   ],
   "id": "36d9a7f6f21d63",
   "outputs": [
    {
     "name": "stdout",
     "output_type": "stream",
     "text": [
      "[DEBUG] Reducing to 50 dimensions with SVD...\n"
     ]
    }
   ],
   "execution_count": 14
  },
  {
   "metadata": {
    "ExecuteTime": {
     "end_time": "2025-09-13T03:02:18.833487Z",
     "start_time": "2025-09-13T03:02:16.160194Z"
    }
   },
   "cell_type": "code",
   "source": [
    "X_reduced_full = []\n",
    "for chunk_start in tqdm(range(0, X_sparse.shape[0], 100_000), desc=\"SVD: transforming in batches\"):\n",
    "    chunk = X_sparse[chunk_start : chunk_start + 100_000]\n",
    "    X_reduced_full.append(svd.fit_transform(chunk) if chunk_start == 0 else svd.transform(chunk))\n",
    "X_reduced_full = np.vstack(X_reduced_full)"
   ],
   "id": "234abaa905201247",
   "outputs": [
    {
     "name": "stderr",
     "output_type": "stream",
     "text": [
      "SVD: transforming in batches: 100%|██████████| 48/48 [00:01<00:00, 36.48it/s]\n"
     ]
    }
   ],
   "execution_count": 17
  },
  {
   "metadata": {
    "ExecuteTime": {
     "end_time": "2025-09-13T03:02:20.057922Z",
     "start_time": "2025-09-13T03:02:20.054534Z"
    }
   },
   "cell_type": "code",
   "source": [
    "# get shape of reduced\n",
    "print(f\"[DEBUG] Reduced full shape: {X_reduced_full.shape}\")"
   ],
   "id": "a91867bd4e42df9f",
   "outputs": [
    {
     "name": "stdout",
     "output_type": "stream",
     "text": [
      "[DEBUG] Reduced full shape: (4723483, 50)\n"
     ]
    }
   ],
   "execution_count": 18
  },
  {
   "metadata": {
    "ExecuteTime": {
     "end_time": "2025-09-13T03:44:30.941685Z",
     "start_time": "2025-09-13T03:30:42.623219Z"
    }
   },
   "cell_type": "code",
   "source": [
    "import numpy as np\n",
    "import matplotlib.pyplot as plt\n",
    "from sklearn.cluster import KMeans\n",
    "from tqdm import tqdm\n",
    "\n",
    "# Suppose X_reduced is your dim-reduced embeddings matrix (dense, shape: (n_samples, n_components))\n",
    "inertias = []\n",
    "k_values = list(range(10, 21))\n",
    "\n",
    "for k in tqdm(k_values, desc=\"Elbow method fitting\"):\n",
    "    print(f\"[DEBUG] Fitting KMeans with k={k}...\")\n",
    "    km = KMeans(n_clusters=k, random_state=42, n_init=10)\n",
    "    km.fit(X_reduced_full)\n",
    "    inertias.append(km.inertia_)\n",
    "\n",
    "plt.figure(figsize=(8,5))\n",
    "plt.plot(k_values, inertias, marker='o')\n",
    "plt.xlabel(\"Number of clusters (k)\")\n",
    "plt.ylabel(\"Inertia\")\n",
    "plt.title(\"Elbow Method: inertia vs k\")\n",
    "plt.xticks(k_values)\n",
    "plt.show()"
   ],
   "id": "d0a2f4e3046a8045",
   "outputs": [
    {
     "name": "stderr",
     "output_type": "stream",
     "text": [
      "Elbow method fitting:   0%|          | 0/11 [00:00<?, ?it/s]"
     ]
    },
    {
     "name": "stdout",
     "output_type": "stream",
     "text": [
      "[DEBUG] Fitting KMeans with k=10...\n"
     ]
    },
    {
     "name": "stderr",
     "output_type": "stream",
     "text": [
      "Elbow method fitting:   9%|▉         | 1/11 [00:52<08:45, 52.51s/it]"
     ]
    },
    {
     "name": "stdout",
     "output_type": "stream",
     "text": [
      "[DEBUG] Fitting KMeans with k=11...\n"
     ]
    },
    {
     "name": "stderr",
     "output_type": "stream",
     "text": [
      "Elbow method fitting:  18%|█▊        | 2/11 [01:51<08:26, 56.26s/it]"
     ]
    },
    {
     "name": "stdout",
     "output_type": "stream",
     "text": [
      "[DEBUG] Fitting KMeans with k=12...\n"
     ]
    },
    {
     "name": "stderr",
     "output_type": "stream",
     "text": [
      "Elbow method fitting:  27%|██▋       | 3/11 [02:50<07:39, 57.47s/it]"
     ]
    },
    {
     "name": "stdout",
     "output_type": "stream",
     "text": [
      "[DEBUG] Fitting KMeans with k=13...\n"
     ]
    },
    {
     "name": "stderr",
     "output_type": "stream",
     "text": [
      "Elbow method fitting:  36%|███▋      | 4/11 [03:44<06:33, 56.17s/it]"
     ]
    },
    {
     "name": "stdout",
     "output_type": "stream",
     "text": [
      "[DEBUG] Fitting KMeans with k=14...\n"
     ]
    },
    {
     "name": "stderr",
     "output_type": "stream",
     "text": [
      "Elbow method fitting:  45%|████▌     | 5/11 [04:59<06:17, 62.86s/it]"
     ]
    },
    {
     "name": "stdout",
     "output_type": "stream",
     "text": [
      "[DEBUG] Fitting KMeans with k=15...\n"
     ]
    },
    {
     "name": "stderr",
     "output_type": "stream",
     "text": [
      "Elbow method fitting:  55%|█████▍    | 6/11 [06:17<05:39, 68.00s/it]"
     ]
    },
    {
     "name": "stdout",
     "output_type": "stream",
     "text": [
      "[DEBUG] Fitting KMeans with k=16...\n"
     ]
    },
    {
     "name": "stderr",
     "output_type": "stream",
     "text": [
      "Elbow method fitting:  64%|██████▎   | 7/11 [07:21<04:27, 66.82s/it]"
     ]
    },
    {
     "name": "stdout",
     "output_type": "stream",
     "text": [
      "[DEBUG] Fitting KMeans with k=17...\n"
     ]
    },
    {
     "name": "stderr",
     "output_type": "stream",
     "text": [
      "Elbow method fitting:  73%|███████▎  | 8/11 [09:07<03:57, 79.16s/it]"
     ]
    },
    {
     "name": "stdout",
     "output_type": "stream",
     "text": [
      "[DEBUG] Fitting KMeans with k=18...\n"
     ]
    },
    {
     "name": "stderr",
     "output_type": "stream",
     "text": [
      "Elbow method fitting:  82%|████████▏ | 9/11 [10:34<02:43, 81.81s/it]"
     ]
    },
    {
     "name": "stdout",
     "output_type": "stream",
     "text": [
      "[DEBUG] Fitting KMeans with k=19...\n"
     ]
    },
    {
     "name": "stderr",
     "output_type": "stream",
     "text": [
      "Elbow method fitting:  91%|█████████ | 10/11 [12:03<01:23, 83.88s/it]"
     ]
    },
    {
     "name": "stdout",
     "output_type": "stream",
     "text": [
      "[DEBUG] Fitting KMeans with k=20...\n"
     ]
    },
    {
     "name": "stderr",
     "output_type": "stream",
     "text": [
      "Elbow method fitting: 100%|██████████| 11/11 [13:48<00:00, 75.28s/it]\n"
     ]
    },
    {
     "data": {
      "text/plain": [
       "<Figure size 800x500 with 1 Axes>"
      ],
      "image/png": "[encoded data removed]"
     },
     "metadata": {},
     "output_type": "display_data"
    }
   ],
   "execution_count": 23
  },
  {
   "metadata": {
    "ExecuteTime": {
     "end_time": "2025-09-13T03:54:02.829751Z",
     "start_time": "2025-09-13T03:52:31.347912Z"
    }
   },
   "cell_type": "code",
   "source": [
    "from sklearn.cluster import KMeans\n",
    "\n",
    "# Set k to 12 based on your elbow method\n",
    "k_optimal = 12\n",
    "print(f\"[DEBUG] Training KMeans with k={k_optimal} clusters...\")\n",
    "\n",
    "kmeans = KMeans(n_clusters=k_optimal, random_state=42, n_init=10)\n",
    "df['cluster'] = kmeans.fit_predict(X_reduced_full)\n",
    "\n",
    "# Optional: print cluster sizes\n",
    "print(\"[DEBUG] Cluster counts:\")\n",
    "print(df['cluster'].value_counts())\n",
    "\n",
    "# Optional: see a few sample comments from each cluster\n",
    "for i in range(k_optimal):\n",
    "    sample_comments = df[df['cluster'] == i]['clean_text'].head(5).tolist()\n",
    "    print(f\"[DEBUG] Cluster {i} sample:\", sample_comments)"
   ],
   "id": "fa65c1c2a2d0b604",
   "outputs": [
    {
     "name": "stdout",
     "output_type": "stream",
     "text": [
      "[DEBUG] Training KMeans with k=12 clusters...\n",
      "[DEBUG] Cluster counts:\n",
      "cluster\n",
      "1     2473220\n",
      "8      664688\n",
      "0      324272\n",
      "6      293889\n",
      "5      263532\n",
      "3      165324\n",
      "7      138223\n",
      "9      121850\n",
      "4      117728\n",
      "2       58740\n",
      "10      54859\n",
      "11      47158\n",
      "Name: count, dtype: int64\n",
      "[DEBUG] Cluster 0 sample: ['its the fake ears for me', 'here comes the suns doo doo doo doo\\n\\nthe bees movie', 'buddy dont give those rich womens the idea of a perfect plastic surgery', 'ah hell nah  did you guys see what he put on his face at the start', 'the end you have a litte a lips on your theet']\n",
      "[DEBUG] Cluster 1 sample: ['i fake my smile everyday', 'your not fat your just beautiful', '', 'english padhta hai na english mein likhkar bhejo tum kahan par rehte ho mobile number dial karo hamara bhi laga ne ka hai', '']\n",
      "[DEBUG] Cluster 2 sample: ['nice', 'nice', 'nice', 'nice nice', 'nice']\n",
      "[DEBUG] Cluster 3 sample: ['they are beautiful women inside out', 'you are an inspiration', 'you are so cute', '1950s are im fav', 'these butch haircuts are just yuck']\n",
      "[DEBUG] Cluster 4 sample: ['i love makeup', 'love it', 'i love korean style and i love abg also lol', 'evelyn sword bible temple fresh waters i love lata maa tadhee', 'i love you']\n",
      "[DEBUG] Cluster 5 sample: ['you not have curly hair', 'you look beautiful in everything you wear', 'you like a barbie all fake', 'how did you get your front roots so fluffy  they look great', 'you should actually dye your hair dark blue it would slay on you']\n",
      "[DEBUG] Cluster 6 sample: ['me who is having hairfall', 'people say beauty is pian but actually bold is pain', 'ok hold on your whole head is built absolutely amazing', 'aura is over the chart code rizz code rizz aura', 'ummmmm my sister is a sagittarius']\n",
      "[DEBUG] Cluster 7 sample: ['she has ruined her face with so many skin treatments and surgeriesi still remember she was so beautiful till 2015 after that', 'sie sah ungeschminkt und ohne ohrringe so schn aus und jetzt', 'so adorable', '50 makes her look so rich n classy', 'du siehst so schn aus']\n",
      "[DEBUG] Cluster 8 sample: ['some people arnt rich no need to flex', 'literally why do i copy her makeup and it turns out so good', 'why arent they donating that hair', 'ma to 20000000ka makeup karaya h', 'this dude really thinks hes entitled to treat others however he likes she probably cheated on him with a black dude ok and']\n",
      "[DEBUG] Cluster 9 sample: ['beautiful song \\nbeautiful hair \\nbeautiful job', 'shes so beautiful', 'beautiful', 'with or without shes beautiful', 'beautiful de']\n",
      "[DEBUG] Cluster 10 sample: ['wow she can be my beautiful boss  anytime', 'wow', 'wow', 'wow', 'wow  chan']\n",
      "[DEBUG] Cluster 11 sample: ['india left the chat', 'india', 'main india se hun kaise order karun  please bataiye', 'india look so beautiful', 'india makeup is beautiful']\n"
     ]
    }
   ],
   "execution_count": 25
  },
  {
   "metadata": {
    "ExecuteTime": {
     "end_time": "2025-09-13T03:55:11.639499Z",
     "start_time": "2025-09-13T03:55:10.604100Z"
    }
   },
   "cell_type": "code",
   "source": [
    "import pandas as pd\n",
    "from collections import Counter\n",
    "import matplotlib.pyplot as plt\n",
    "\n",
    "# Step 1: Map cluster IDs to descriptive labels\n",
    "cluster_labels = {\n",
    "    0: \"Jokes & Random\",\n",
    "    1: \"Emotional / Personal\",\n",
    "    2: \"Short Compliments\",\n",
    "    3: \"Encouragement / Admiration\",\n",
    "    4: \"Expressions of Love\",\n",
    "    5: \"Hair & Beauty Opinions\",\n",
    "    6: \"Self-Reflection / Memes\",\n",
    "    7: \"Criticism / Mixed Opinions\",\n",
    "    8: \"Money / Style / Entitlement\",\n",
    "    9: \"Repetitive 'Beautiful'\",\n",
    "    10: \"Repetitive 'Wow'\",\n",
    "    11: \"India Mentions\"\n",
    "}\n",
    "\n",
    "df[\"cluster_label\"] = df[\"cluster\"].map(cluster_labels)\n",
    "\n",
    "# Step 2: Merge repetitive clusters into a single group (optional)\n",
    "merge_map = {\n",
    "    \"Short Compliments\": \"Repetitive Praise\",\n",
    "    \"Repetitive 'Beautiful'\": \"Repetitive Praise\",\n",
    "    \"Repetitive 'Wow'\": \"Repetitive Praise\"\n",
    "}\n",
    "\n",
    "df[\"merged_label\"] = df[\"cluster_label\"].replace(merge_map)\n",
    "\n",
    "# Step 3: Count frequencies after merging\n",
    "cluster_counts = Counter(df[\"merged_label\"])\n",
    "merged_df = pd.DataFrame(cluster_counts.items(), columns=[\"Cluster\", \"Count\"])\n",
    "\n",
    "# Step 4: Visualization\n",
    "plt.figure(figsize=(10,5))\n",
    "plt.barh(merged_df[\"Cluster\"], merged_df[\"Count\"])\n",
    "plt.xlabel(\"Number of Comments\")\n",
    "plt.ylabel(\"Cluster\")\n",
    "plt.title(\"Cluster Distribution (Merged)\")\n",
    "plt.gca().invert_yaxis()\n",
    "plt.show()"
   ],
   "id": "82c172ac9a00b170",
   "outputs": [
    {
     "data": {
      "text/plain": [
       "<Figure size 1000x500 with 1 Axes>"
      ],
      "image/png": "[encoded data removed]"
     },
     "metadata": {},
     "output_type": "display_data"
    }
   ],
   "execution_count": 26
  },
  {
   "metadata": {
    "ExecuteTime": {
     "end_time": "2025-09-13T03:58:04.573040Z",
     "start_time": "2025-09-13T03:58:03.944059Z"
    }
   },
   "cell_type": "code",
   "source": [
    "# Count sentiment per cluster after merging\n",
    "sentiment_cluster_counts = (\n",
    "    df.groupby([\"merged_label\", \"sentiment_label\"])\n",
    "      .size()\n",
    "      .unstack(fill_value=0)\n",
    ")\n",
    "\n",
    "print(sentiment_cluster_counts)"
   ],
   "id": "723402de1b93ae9e",
   "outputs": [
    {
     "name": "stdout",
     "output_type": "stream",
     "text": [
      "sentiment_label              negative  neutral  positive\n",
      "merged_label                                            \n",
      "Criticism / Mixed Opinions       9043    22764    106416\n",
      "Emotional / Personal           189635  1770022    513563\n",
      "Encouragement / Admiration      15300    40922    109102\n",
      "Expressions of Love               853       92    116783\n",
      "Hair & Beauty Opinions          24417    65233    173882\n",
      "India Mentions                    593    27179     19386\n",
      "Jokes & Random                  53429   112636    158207\n",
      "Money / Style / Entitlement    130220   183784    350684\n",
      "Repetitive Praise                1971      209    233269\n",
      "Self-Reflection / Memes         45131   101896    146862\n"
     ]
    }
   ],
   "execution_count": 28
  },
  {
   "metadata": {
    "ExecuteTime": {
     "end_time": "2025-09-13T03:58:23.627864Z",
     "start_time": "2025-09-13T03:58:23.471760Z"
    }
   },
   "cell_type": "code",
   "source": [
    "import matplotlib.pyplot as plt\n",
    "\n",
    "# Stacked bar chart\n",
    "sentiment_cluster_counts.plot(\n",
    "    kind=\"barh\", stacked=True, figsize=(10,6),\n",
    "    colormap=\"coolwarm\"  # optional color scheme\n",
    ")\n",
    "\n",
    "plt.xlabel(\"Number of Comments\")\n",
    "plt.ylabel(\"Cluster\")\n",
    "plt.title(\"Sentiment Distribution by Cluster\")\n",
    "plt.legend(title=\"Sentiment\")\n",
    "plt.show()"
   ],
   "id": "5c59d37a3f123f36",
   "outputs": [
    {
     "data": {
      "text/plain": [
       "<Figure size 1000x600 with 1 Axes>"
      ],
      "image/png": "[encoded data removed]"
     },
     "metadata": {},
     "output_type": "display_data"
    }
   ],
   "execution_count": 29
  },
  {
   "metadata": {
    "ExecuteTime": {
     "end_time": "2025-09-13T04:01:39.885003Z",
     "start_time": "2025-09-13T04:01:38.098460Z"
    }
   },
   "cell_type": "code",
   "source": [
    "# Example: sentiment column already in df\n",
    "print(df[['clean_text', 'cluster', 'sentiment_label']].head())"
   ],
   "id": "1851ab52b6f2f396",
   "outputs": [
    {
     "name": "stdout",
     "output_type": "stream",
     "text": [
      "                            clean_text  cluster sentiment_label\n",
      "0  they are beautiful women inside out        3        positive\n",
      "1             i fake my smile everyday        1        negative\n",
      "2              you not have curly hair        5         neutral\n",
      "3     your not fat your just beautiful        1        positive\n",
      "4                                             1         neutral\n"
     ]
    }
   ],
   "execution_count": 30
  },
  {
   "metadata": {
    "ExecuteTime": {
     "end_time": "2025-09-13T04:07:57.483613Z",
     "start_time": "2025-09-13T04:07:56.892405Z"
    }
   },
   "cell_type": "code",
   "source": [
    "cluster_sentiment = df.groupby(['cluster', 'sentiment_label']).size().unstack(fill_value=0)\n",
    "cluster_sentiment['total'] = cluster_sentiment.sum(axis=1)\n",
    "cluster_sentiment['positive_ratio'] = cluster_sentiment.get('positive', 0) / cluster_sentiment['total']\n",
    "cluster_sentiment['negative_ratio'] = cluster_sentiment.get('negative', 0) / cluster_sentiment['total']\n",
    "\n",
    "# Reset index to keep 'cluster' as a column\n",
    "cluster_sentiment = cluster_sentiment.reset_index()\n",
    "\n",
    "# Sort and display\n",
    "cluster_sentiment.sort_values('total', ascending=False).head(100)"
   ],
   "id": "2134e31c87579858",
   "outputs": [
    {
     "data": {
      "text/plain": [
       "sentiment_label  cluster  negative  neutral  positive    total  \\\n",
       "1                      1    189635  1770022    513563  2473220   \n",
       "8                      8    130220   183784    350684   664688   \n",
       "0                      0     53429   112636    158207   324272   \n",
       "6                      6     45131   101896    146862   293889   \n",
       "5                      5     24417    65233    173882   263532   \n",
       "3                      3     15300    40922    109102   165324   \n",
       "7                      7      9043    22764    106416   138223   \n",
       "9                      9      1083       76    120691   121850   \n",
       "4                      4       853       92    116783   117728   \n",
       "2                      2       763       73     57904    58740   \n",
       "10                    10       125       60     54674    54859   \n",
       "11                    11       593    27179     19386    47158   \n",
       "\n",
       "sentiment_label  positive_ratio  negative_ratio  \n",
       "1                      0.207650        0.076675  \n",
       "8                      0.527592        0.195911  \n",
       "0                      0.487884        0.164766  \n",
       "6                      0.499719        0.153565  \n",
       "5                      0.659814        0.092653  \n",
       "3                      0.659928        0.092546  \n",
       "7                      0.769886        0.065423  \n",
       "9                      0.990488        0.008888  \n",
       "4                      0.991973        0.007246  \n",
       "2                      0.985768        0.012989  \n",
       "10                     0.996628        0.002279  \n",
       "11                     0.411086        0.012575  "
      ],
      "text/html": [
       "<div>\n",
       "<style scoped>\n",
       "    .dataframe tbody tr th:only-of-type {\n",
       "        vertical-align: middle;\n",
       "    }\n",
       "\n",
       "    .dataframe tbody tr th {\n",
       "        vertical-align: top;\n",
       "    }\n",
       "\n",
       "    .dataframe thead th {\n",
       "        text-align: right;\n",
       "    }\n",
       "</style>\n",
       "<table border=\"1\" class=\"dataframe\">\n",
       "  <thead>\n",
       "    <tr style=\"text-align: right;\">\n",
       "      <th>sentiment_label</th>\n",
       "      <th>cluster</th>\n",
       "      <th>negative</th>\n",
       "      <th>neutral</th>\n",
       "      <th>positive</th>\n",
       "      <th>total</th>\n",
       "      <th>positive_ratio</th>\n",
       "      <th>negative_ratio</th>\n",
       "    </tr>\n",
       "  </thead>\n",
       "  <tbody>\n",
       "    <tr>\n",
       "      <th>1</th>\n",
       "      <td>1</td>\n",
       "      <td>189635</td>\n",
       "      <td>1770022</td>\n",
       "      <td>513563</td>\n",
       "      <td>2473220</td>\n",
       "      <td>0.207650</td>\n",
       "      <td>0.076675</td>\n",
       "    </tr>\n",
       "    <tr>\n",
       "      <th>8</th>\n",
       "      <td>8</td>\n",
       "      <td>130220</td>\n",
       "      <td>183784</td>\n",
       "      <td>350684</td>\n",
       "      <td>664688</td>\n",
       "      <td>0.527592</td>\n",
       "      <td>0.195911</td>\n",
       "    </tr>\n",
       "    <tr>\n",
       "      <th>0</th>\n",
       "      <td>0</td>\n",
       "      <td>53429</td>\n",
       "      <td>112636</td>\n",
       "      <td>158207</td>\n",
       "      <td>324272</td>\n",
       "      <td>0.487884</td>\n",
       "      <td>0.164766</td>\n",
       "    </tr>\n",
       "    <tr>\n",
       "      <th>6</th>\n",
       "      <td>6</td>\n",
       "      <td>45131</td>\n",
       "      <td>101896</td>\n",
       "      <td>146862</td>\n",
       "      <td>293889</td>\n",
       "      <td>0.499719</td>\n",
       "      <td>0.153565</td>\n",
       "    </tr>\n",
       "    <tr>\n",
       "      <th>5</th>\n",
       "      <td>5</td>\n",
       "      <td>24417</td>\n",
       "      <td>65233</td>\n",
       "      <td>173882</td>\n",
       "      <td>263532</td>\n",
       "      <td>0.659814</td>\n",
       "      <td>0.092653</td>\n",
       "    </tr>\n",
       "    <tr>\n",
       "      <th>3</th>\n",
       "      <td>3</td>\n",
       "      <td>15300</td>\n",
       "      <td>40922</td>\n",
       "      <td>109102</td>\n",
       "      <td>165324</td>\n",
       "      <td>0.659928</td>\n",
       "      <td>0.092546</td>\n",
       "    </tr>\n",
       "    <tr>\n",
       "      <th>7</th>\n",
       "      <td>7</td>\n",
       "      <td>9043</td>\n",
       "      <td>22764</td>\n",
       "      <td>106416</td>\n",
       "      <td>138223</td>\n",
       "      <td>0.769886</td>\n",
       "      <td>0.065423</td>\n",
       "    </tr>\n",
       "    <tr>\n",
       "      <th>9</th>\n",
       "      <td>9</td>\n",
       "      <td>1083</td>\n",
       "      <td>76</td>\n",
       "      <td>120691</td>\n",
       "      <td>121850</td>\n",
       "      <td>0.990488</td>\n",
       "      <td>0.008888</td>\n",
       "    </tr>\n",
       "    <tr>\n",
       "      <th>4</th>\n",
       "      <td>4</td>\n",
       "      <td>853</td>\n",
       "      <td>92</td>\n",
       "      <td>116783</td>\n",
       "      <td>117728</td>\n",
       "      <td>0.991973</td>\n",
       "      <td>0.007246</td>\n",
       "    </tr>\n",
       "    <tr>\n",
       "      <th>2</th>\n",
       "      <td>2</td>\n",
       "      <td>763</td>\n",
       "      <td>73</td>\n",
       "      <td>57904</td>\n",
       "      <td>58740</td>\n",
       "      <td>0.985768</td>\n",
       "      <td>0.012989</td>\n",
       "    </tr>\n",
       "    <tr>\n",
       "      <th>10</th>\n",
       "      <td>10</td>\n",
       "      <td>125</td>\n",
       "      <td>60</td>\n",
       "      <td>54674</td>\n",
       "      <td>54859</td>\n",
       "      <td>0.996628</td>\n",
       "      <td>0.002279</td>\n",
       "    </tr>\n",
       "    <tr>\n",
       "      <th>11</th>\n",
       "      <td>11</td>\n",
       "      <td>593</td>\n",
       "      <td>27179</td>\n",
       "      <td>19386</td>\n",
       "      <td>47158</td>\n",
       "      <td>0.411086</td>\n",
       "      <td>0.012575</td>\n",
       "    </tr>\n",
       "  </tbody>\n",
       "</table>\n",
       "</div>"
      ]
     },
     "execution_count": 34,
     "metadata": {},
     "output_type": "execute_result"
    }
   ],
   "execution_count": 34
  },
  {
   "metadata": {
    "ExecuteTime": {
     "end_time": "2025-09-13T08:54:27.516451Z",
     "start_time": "2025-09-13T08:54:15.342376Z"
    }
   },
   "cell_type": "code",
   "source": "df = df.merge(cluster_sentiment, on='cluster', how='left')",
   "id": "692c776d04b86271",
   "outputs": [],
   "execution_count": 35
  },
  {
   "metadata": {
    "ExecuteTime": {
     "end_time": "2025-09-13T08:54:42.847668Z",
     "start_time": "2025-09-13T08:54:42.833347Z"
    }
   },
   "cell_type": "code",
   "source": [
    "# show the columns in df\n",
    "df.columns"
   ],
   "id": "291dc69299b25c22",
   "outputs": [
    {
     "data": {
      "text/plain": [
       "Index(['commentId', 'textOriginal', 'publishedAt', 'videoId', 'channelId',\n",
       "       'title', 'viewCount', 'likeCount', 'clean_text', 'sentiment_score',\n",
       "       'sentiment_label', 'cluster', 'cluster_label', 'merged_label',\n",
       "       'negative', 'neutral', 'positive', 'total', 'positive_ratio',\n",
       "       'negative_ratio'],\n",
       "      dtype='object')"
      ]
     },
     "execution_count": 36,
     "metadata": {},
     "output_type": "execute_result"
    }
   ],
   "execution_count": 36
  },
  {
   "metadata": {
    "ExecuteTime": {
     "end_time": "2025-09-13T08:58:07.623941Z",
     "start_time": "2025-09-13T08:57:50.973436Z"
    }
   },
   "cell_type": "code",
   "source": [
    "import pandas as pd\n",
    "import matplotlib.pyplot as plt\n",
    "\n",
    "# Convert publishedAt to datetime if needed\n",
    "df['publishedAt'] = pd.to_datetime(df['publishedAt'])\n",
    "\n",
    "# Group by date and cluster\n",
    "cluster_time = (\n",
    "    df.groupby([pd.Grouper(key='publishedAt', freq='M'), 'cluster_label'])\n",
    "      .size()\n",
    "      .unstack(fill_value=0)\n",
    ")\n",
    "\n",
    "# Plot clusters emerging over time\n",
    "cluster_time.plot(figsize=(12, 6), colormap='tab10')\n",
    "plt.title(\"Clusters Emerging Over Time\")\n",
    "plt.xlabel(\"Date\")\n",
    "plt.ylabel(\"Number of Comments\")\n",
    "plt.legend(title=\"Cluster\")\n",
    "plt.show()"
   ],
   "id": "35ff378c560433db",
   "outputs": [
    {
     "name": "stderr",
     "output_type": "stream",
     "text": [
      "/var/folders/2c/b62fj2_s0yz81crbgdm7jg8w0000gn/T/ipykernel_86705/3325472009.py:9: FutureWarning: 'M' is deprecated and will be removed in a future version, please use 'ME' instead.\n",
      "  df.groupby([pd.Grouper(key='publishedAt', freq='M'), 'cluster_label'])\n"
     ]
    },
    {
     "data": {
      "text/plain": [
       "<Figure size 1200x600 with 1 Axes>"
      ],
      "image/png": "[encoded data removed]"
     },
     "metadata": {},
     "output_type": "display_data"
    }
   ],
   "execution_count": 38
  },
  {
   "metadata": {
    "ExecuteTime": {
     "end_time": "2025-09-13T09:06:07.846921Z",
     "start_time": "2025-09-13T09:06:06.212519Z"
    }
   },
   "cell_type": "code",
   "source": [
    " # drill down into the complaints cluster\n",
    " # Filter the cluster you're interested in\n",
    "complaints_df = df[df['cluster_label'] == \"Criticism / Mixed Opinions\"]\n",
    "\n",
    "# get only negative comments\n",
    "complaints_df = complaints_df[complaints_df['sentiment_label'] == 'negative']\n",
    "\n",
    "# Preview first few complaints\n",
    "complaints_df[['publishedAt', 'clean_text', 'sentiment_label']].head(20)"
   ],
   "id": "11f95dc8c353bae",
   "outputs": [
    {
     "data": {
      "text/plain": [
       "             publishedAt                                         clean_text  \\\n",
       "118  2021-05-18 06:55:26  i dont know but to me this hack just seem usel...   \n",
       "270  2023-02-24 12:56:52                                       eeee so ugly   \n",
       "407  2023-12-25 03:07:24  i got some weird ass hair fr is a mexican ex t...   \n",
       "736  2024-08-04 13:07:36                                    why they so sad   \n",
       "1882 2024-02-16 16:09:46      girl id kill for ur hair\\nlooks so pretty btw   \n",
       "1968 2024-06-27 08:02:35  i am so jealous my hair only does two styles l...   \n",
       "3020 2023-11-14 05:47:14  emirabdcdiese punkte machen das ganze einfach ...   \n",
       "3286 2023-12-27 06:13:12                    i know i wanted season 4 so bad   \n",
       "3751 2024-07-27 20:28:26                                    i got so scared   \n",
       "4947 2024-08-10 20:31:36  kinda treu tho makeup is so ugly i hate it its...   \n",
       "5106 2025-05-08 19:25:23  diesind schon so asbach uralt diese spangen un...   \n",
       "5123 2024-11-10 20:42:11  they some hatin ass hoes these mfs be so racis...   \n",
       "5511 2023-05-20 18:41:38                                      i feel so bad   \n",
       "6391 2025-05-20 18:09:51     my boyfriend said jello tampon i died so hardd   \n",
       "6532 2024-08-19 12:13:32                                       so no dreads   \n",
       "6609 2022-05-09 12:05:26  du bist so toll und hbsch die hater sind nur e...   \n",
       "7383 2021-06-05 11:56:33                      your mouth expression  so bad   \n",
       "7945 2025-03-01 08:14:48                                      right so fake   \n",
       "8108 2021-11-08 02:20:30                                 omg noway so scary   \n",
       "9400 2025-02-10 05:01:12                              so we just being lazy   \n",
       "\n",
       "     sentiment_label  \n",
       "118         negative  \n",
       "270         negative  \n",
       "407         negative  \n",
       "736         negative  \n",
       "1882        negative  \n",
       "1968        negative  \n",
       "3020        negative  \n",
       "3286        negative  \n",
       "3751        negative  \n",
       "4947        negative  \n",
       "5106        negative  \n",
       "5123        negative  \n",
       "5511        negative  \n",
       "6391        negative  \n",
       "6532        negative  \n",
       "6609        negative  \n",
       "7383        negative  \n",
       "7945        negative  \n",
       "8108        negative  \n",
       "9400        negative  "
      ],
      "text/html": [
       "<div>\n",
       "<style scoped>\n",
       "    .dataframe tbody tr th:only-of-type {\n",
       "        vertical-align: middle;\n",
       "    }\n",
       "\n",
       "    .dataframe tbody tr th {\n",
       "        vertical-align: top;\n",
       "    }\n",
       "\n",
       "    .dataframe thead th {\n",
       "        text-align: right;\n",
       "    }\n",
       "</style>\n",
       "<table border=\"1\" class=\"dataframe\">\n",
       "  <thead>\n",
       "    <tr style=\"text-align: right;\">\n",
       "      <th></th>\n",
       "      <th>publishedAt</th>\n",
       "      <th>clean_text</th>\n",
       "      <th>sentiment_label</th>\n",
       "    </tr>\n",
       "  </thead>\n",
       "  <tbody>\n",
       "    <tr>\n",
       "      <th>118</th>\n",
       "      <td>2021-05-18 06:55:26</td>\n",
       "      <td>i dont know but to me this hack just seem usel...</td>\n",
       "      <td>negative</td>\n",
       "    </tr>\n",
       "    <tr>\n",
       "      <th>270</th>\n",
       "      <td>2023-02-24 12:56:52</td>\n",
       "      <td>eeee so ugly</td>\n",
       "      <td>negative</td>\n",
       "    </tr>\n",
       "    <tr>\n",
       "      <th>407</th>\n",
       "      <td>2023-12-25 03:07:24</td>\n",
       "      <td>i got some weird ass hair fr is a mexican ex t...</td>\n",
       "      <td>negative</td>\n",
       "    </tr>\n",
       "    <tr>\n",
       "      <th>736</th>\n",
       "      <td>2024-08-04 13:07:36</td>\n",
       "      <td>why they so sad</td>\n",
       "      <td>negative</td>\n",
       "    </tr>\n",
       "    <tr>\n",
       "      <th>1882</th>\n",
       "      <td>2024-02-16 16:09:46</td>\n",
       "      <td>girl id kill for ur hair\\nlooks so pretty btw</td>\n",
       "      <td>negative</td>\n",
       "    </tr>\n",
       "    <tr>\n",
       "      <th>1968</th>\n",
       "      <td>2024-06-27 08:02:35</td>\n",
       "      <td>i am so jealous my hair only does two styles l...</td>\n",
       "      <td>negative</td>\n",
       "    </tr>\n",
       "    <tr>\n",
       "      <th>3020</th>\n",
       "      <td>2023-11-14 05:47:14</td>\n",
       "      <td>emirabdcdiese punkte machen das ganze einfach ...</td>\n",
       "      <td>negative</td>\n",
       "    </tr>\n",
       "    <tr>\n",
       "      <th>3286</th>\n",
       "      <td>2023-12-27 06:13:12</td>\n",
       "      <td>i know i wanted season 4 so bad</td>\n",
       "      <td>negative</td>\n",
       "    </tr>\n",
       "    <tr>\n",
       "      <th>3751</th>\n",
       "      <td>2024-07-27 20:28:26</td>\n",
       "      <td>i got so scared</td>\n",
       "      <td>negative</td>\n",
       "    </tr>\n",
       "    <tr>\n",
       "      <th>4947</th>\n",
       "      <td>2024-08-10 20:31:36</td>\n",
       "      <td>kinda treu tho makeup is so ugly i hate it its...</td>\n",
       "      <td>negative</td>\n",
       "    </tr>\n",
       "    <tr>\n",
       "      <th>5106</th>\n",
       "      <td>2025-05-08 19:25:23</td>\n",
       "      <td>diesind schon so asbach uralt diese spangen un...</td>\n",
       "      <td>negative</td>\n",
       "    </tr>\n",
       "    <tr>\n",
       "      <th>5123</th>\n",
       "      <td>2024-11-10 20:42:11</td>\n",
       "      <td>they some hatin ass hoes these mfs be so racis...</td>\n",
       "      <td>negative</td>\n",
       "    </tr>\n",
       "    <tr>\n",
       "      <th>5511</th>\n",
       "      <td>2023-05-20 18:41:38</td>\n",
       "      <td>i feel so bad</td>\n",
       "      <td>negative</td>\n",
       "    </tr>\n",
       "    <tr>\n",
       "      <th>6391</th>\n",
       "      <td>2025-05-20 18:09:51</td>\n",
       "      <td>my boyfriend said jello tampon i died so hardd</td>\n",
       "      <td>negative</td>\n",
       "    </tr>\n",
       "    <tr>\n",
       "      <th>6532</th>\n",
       "      <td>2024-08-19 12:13:32</td>\n",
       "      <td>so no dreads</td>\n",
       "      <td>negative</td>\n",
       "    </tr>\n",
       "    <tr>\n",
       "      <th>6609</th>\n",
       "      <td>2022-05-09 12:05:26</td>\n",
       "      <td>du bist so toll und hbsch die hater sind nur e...</td>\n",
       "      <td>negative</td>\n",
       "    </tr>\n",
       "    <tr>\n",
       "      <th>7383</th>\n",
       "      <td>2021-06-05 11:56:33</td>\n",
       "      <td>your mouth expression  so bad</td>\n",
       "      <td>negative</td>\n",
       "    </tr>\n",
       "    <tr>\n",
       "      <th>7945</th>\n",
       "      <td>2025-03-01 08:14:48</td>\n",
       "      <td>right so fake</td>\n",
       "      <td>negative</td>\n",
       "    </tr>\n",
       "    <tr>\n",
       "      <th>8108</th>\n",
       "      <td>2021-11-08 02:20:30</td>\n",
       "      <td>omg noway so scary</td>\n",
       "      <td>negative</td>\n",
       "    </tr>\n",
       "    <tr>\n",
       "      <th>9400</th>\n",
       "      <td>2025-02-10 05:01:12</td>\n",
       "      <td>so we just being lazy</td>\n",
       "      <td>negative</td>\n",
       "    </tr>\n",
       "  </tbody>\n",
       "</table>\n",
       "</div>"
      ]
     },
     "execution_count": 51,
     "metadata": {},
     "output_type": "execute_result"
    }
   ],
   "execution_count": 51
  },
  {
   "metadata": {
    "ExecuteTime": {
     "end_time": "2025-09-13T09:06:09.827241Z",
     "start_time": "2025-09-13T09:06:09.825109Z"
    }
   },
   "cell_type": "code",
   "source": "print(f\"Total comments in 'Criticism / Mixed Opinions' cluster: {len(complaints_df)}\")",
   "id": "eb47aeb01e75758",
   "outputs": [
    {
     "name": "stdout",
     "output_type": "stream",
     "text": [
      "Total comments in 'Criticism / Mixed Opinions' cluster: 9043\n"
     ]
    }
   ],
   "execution_count": 52
  },
  {
   "metadata": {
    "ExecuteTime": {
     "end_time": "2025-09-13T09:06:11.134794Z",
     "start_time": "2025-09-13T09:06:11.072691Z"
    }
   },
   "cell_type": "code",
   "source": [
    "from sklearn.feature_extraction.text import TfidfVectorizer\n",
    "import pandas as pd\n",
    "import re\n",
    "\n",
    "# Prepare texts: each comment is a document\n",
    "texts = complaints_df['clean_text'].dropna().tolist()\n",
    "texts = [re.sub(r'[^a-zA-Z\\s]', '', text.lower()) for text in texts]\n",
    "\n",
    "# Create TF-IDF matrix across all comments\n",
    "vectorizer = TfidfVectorizer(stop_words='english', max_features=20)\n",
    "tfidf_matrix = vectorizer.fit_transform(texts)\n",
    "\n",
    "# Get feature names and mean TF-IDF score across documents\n",
    "feature_names = vectorizer.get_feature_names_out()\n",
    "scores = tfidf_matrix.mean(axis=0).A1  # average importance across all docs\n",
    "tfidf_scores = pd.DataFrame({'keyword': feature_names, 'score': scores})\n",
    "\n",
    "# Sort by importance\n",
    "top_keywords = tfidf_scores.sort_values('score', ascending=False)\n",
    "print(top_keywords)"
   ],
   "id": "b15375eee512470f",
   "outputs": [
    {
     "name": "stdout",
     "output_type": "stream",
     "text": [
      "   keyword     score\n",
      "0      bad  0.102134\n",
      "8       im  0.072899\n",
      "14  pretty  0.046210\n",
      "3     fake  0.040978\n",
      "12  makeup  0.040118\n",
      "11   looks  0.039637\n",
      "10    look  0.037735\n",
      "4     hair  0.035716\n",
      "6     hate  0.028555\n",
      "15     sad  0.028253\n",
      "5     hard  0.027716\n",
      "1      die  0.026710\n",
      "16    shes  0.025395\n",
      "17    stop  0.025015\n",
      "18    ugly  0.024398\n",
      "13     omg  0.024030\n",
      "9     like  0.021108\n",
      "2       du  0.012985\n",
      "7      ich  0.012576\n",
      "19     und  0.011193\n"
     ]
    }
   ],
   "execution_count": 53
  },
  {
   "metadata": {
    "ExecuteTime": {
     "end_time": "2025-09-13T09:06:13.351429Z",
     "start_time": "2025-09-13T09:06:13.291359Z"
    }
   },
   "cell_type": "code",
   "source": [
    "vectorizer = TfidfVectorizer(ngram_range=(2,2), stop_words='english', max_features=15)\n",
    "tfidf_matrix = vectorizer.fit_transform(texts)\n",
    "feature_names = vectorizer.get_feature_names_out()\n",
    "scores = tfidf_matrix.mean(axis=0).A1\n",
    "\n",
    "bigram_scores = pd.DataFrame({'phrase': feature_names, 'score': scores})\n",
    "print(bigram_scores.sort_values('score', ascending=False))"
   ],
   "id": "e93669e83e3421a",
   "outputs": [
    {
     "name": "stdout",
     "output_type": "stream",
     "text": [
      "            phrase     score\n",
      "4      im confused  0.012525\n",
      "5       im jealous  0.011599\n",
      "6         im sorry  0.010631\n",
      "0          du bist  0.009742\n",
      "1         feel bad  0.008471\n",
      "9        looks bad  0.006414\n",
      "2    freaking cute  0.005943\n",
      "11     shes pretty  0.004555\n",
      "13  wasting makeup  0.004391\n",
      "7         look bad  0.004202\n",
      "12      thats rude  0.003950\n",
      "8        look like  0.003684\n",
      "14          wie du  0.003528\n",
      "10        schn wie  0.002139\n",
      "3         ihr seid  0.002028\n"
     ]
    }
   ],
   "execution_count": 54
  },
  {
   "metadata": {
    "ExecuteTime": {
     "end_time": "2025-09-13T09:06:15.520814Z",
     "start_time": "2025-09-13T09:06:15.441387Z"
    }
   },
   "cell_type": "code",
   "source": [
    "top_n = 15\n",
    "top_bigrams = bigram_scores.sort_values('score', ascending=False).head(top_n)\n",
    "\n",
    "plt.figure(figsize=(8,5))\n",
    "plt.barh(top_bigrams['phrase'], top_bigrams['score'])\n",
    "plt.gca().invert_yaxis()  # so the highest score appears at the top\n",
    "plt.xlabel(\"TF-IDF Score\")\n",
    "plt.title(\"Top Complaint Bigrams\")\n",
    "plt.show()"
   ],
   "id": "77537335a8752e25",
   "outputs": [
    {
     "data": {
      "text/plain": [
       "<Figure size 800x500 with 1 Axes>"
      ],
      "image/png": "[encoded data removed]"
     },
     "metadata": {},
     "output_type": "display_data"
    }
   ],
   "execution_count": 55
  },
  {
   "metadata": {
    "ExecuteTime": {
     "end_time": "2025-09-13T09:09:47.144867Z",
     "start_time": "2025-09-13T09:09:47.057493Z"
    }
   },
   "cell_type": "code",
   "source": [
    "from rake_nltk import Rake\n",
    "\n",
    "# Allow only 1-2 word phrases\n",
    "r = Rake(min_length=1, max_length=2)\n",
    "r.extract_keywords_from_text(complaints_text)\n",
    "\n",
    "# Get results\n",
    "rake_keywords = r.get_ranked_phrases_with_scores()\n",
    "rake_df = pd.DataFrame(rake_keywords, columns=[\"score\", \"keyword\"])\n",
    "print(rake_df.head(20))"
   ],
   "id": "74fc037b2c74391",
   "outputs": [
    {
     "name": "stdout",
     "output_type": "stream",
     "text": [
      "    score            keyword\n",
      "0     4.0      zurecht macht\n",
      "1     4.0      zurecht macht\n",
      "2     4.0  yea stopthistrend\n",
      "3     4.0            ya awww\n",
      "4     4.0            ya awww\n",
      "5     4.0            ya awww\n",
      "6     4.0     wrinkled faces\n",
      "7     4.0     wrinkled faces\n",
      "8     4.0          woowww dd\n",
      "9     4.0    woking children\n",
      "10    4.0     wispy realness\n",
      "11    4.0       willy warmer\n",
      "12    4.0        widows peak\n",
      "13    4.0         whole clip\n",
      "14    4.0        whim shaved\n",
      "15    4.0        whim shaved\n",
      "16    4.0           wenn dus\n",
      "17    4.0           wenn dus\n",
      "18    4.0       wendys motto\n",
      "19    4.0       weiter hiiii\n"
     ]
    }
   ],
   "execution_count": 58
  },
  {
   "metadata": {
    "ExecuteTime": {
     "end_time": "2025-09-13T09:09:54.750648Z",
     "start_time": "2025-09-13T09:09:54.654905Z"
    }
   },
   "cell_type": "code",
   "source": [
    "import matplotlib.pyplot as plt\n",
    "\n",
    "top_n = 15\n",
    "plt.figure(figsize=(10, 5))\n",
    "plt.barh(rake_df['keyword'][:top_n][::-1], rake_df['score'][:top_n][::-1])\n",
    "plt.xlabel(\"RAKE Score\")\n",
    "plt.title(f\"Top {top_n} Keywords from Complaints\")\n",
    "plt.show()"
   ],
   "id": "c869b6b897f63cb4",
   "outputs": [
    {
     "data": {
      "text/plain": [
       "<Figure size 1000x500 with 1 Axes>"
      ],
      "image/png": "[encoded data removed]"
     },
     "metadata": {},
     "output_type": "display_data"
    }
   ],
   "execution_count": 59
  },
  {
   "metadata": {
    "ExecuteTime": {
     "end_time": "2025-09-13T09:59:00.776841Z",
     "start_time": "2025-09-13T09:59:00.758713Z"
    }
   },
   "cell_type": "code",
   "source": [
    "# loreal/ontology.py\n",
    "LOREAL_ONTOLOGY= {\n",
    "    \"Makeup\": {\n",
    "        \"seeds\": [\n",
    "            \"makeup\", \"cosmetics\", \"foundation\", \"concealer\", \"mascara\", \"eyeliner\",\n",
    "            \"lipstick\", \"lip gloss\", \"blush\", \"highlighter\", \"eyeshadow palette\",\n",
    "            \"Maybelline\", \"Lancôme\", \"YSL Beauty\", \"L'Oréal Paris\"\n",
    "        ],\n",
    "        \"keywords\": [\n",
    "            \"make up\", \"brow\", \"lip tint\", \"lip oil\", \"matte\", \"dewy\", \"smudgeproof\",\n",
    "            \"yslbeauty\", \"ysl beauty\", \"maybelline\", \"loreal paris\", \"lancome\"\n",
    "        ]\n",
    "    },\n",
    "    \"Skincare\": {\n",
    "        \"seeds\": [\n",
    "            \"skincare\", \"skin care routine\", \"cleanser\", \"toner\", \"serum\", \"moisturizer\",\n",
    "            \"sunscreen\", \"SPF\", \"hydration\", \"acne\", \"anti-aging\", \"dark spots\",\n",
    "            \"La Roche-Posay\", \"CeraVe\", \"Vichy\", \"Garnier\", \"L'Oréal Paris\"\n",
    "        ],\n",
    "        \"keywords\": [\n",
    "            \"retinol\", \"hyaluronic acid\", \"niacinamide\", \"vitamin c\", \"salicylic acid\",\n",
    "            \"AHA\", \"BHA\", \"glycolic acid\", \"microbiome\", \"ceramide\", \"sensitive skin\",\n",
    "            \"la roche posay\", \"vichy\", \"garnier\", \"revitalift\"\n",
    "        ]\n",
    "    },\n",
    "    \"Haircare\": {\n",
    "        \"seeds\": [\n",
    "            \"haircare\", \"shampoo\", \"conditioner\", \"hair mask\", \"hair oil\", \"heat protectant\",\n",
    "            \"scalp care\", \"anti-dandruff\", \"Kérastase\", \"L'Oréal Professionnel\", \"Garnier Fructis\"\n",
    "        ],\n",
    "        \"keywords\": [\n",
    "            \"kerastase\", \"loreal professionnel\", \"fructis\", \"split ends\", \"hair fall\",\n",
    "            \"keratin\", \"leave-in\", \"balayage\", \"toning\"\n",
    "        ]\n",
    "    },\n",
    "    \"Fragrance\": {\n",
    "        \"seeds\": [\n",
    "            \"fragrance\", \"perfume\", \"eau de parfum\", \"eau de toilette\", \"sillage\",\n",
    "            \"fragrance notes\", \"YSL Libre\", \"Armani Si\", \"Maison Margiela REPLICA\", \"Lancôme La Vie Est Belle\"\n",
    "        ],\n",
    "        \"keywords\": [\n",
    "            \"parfum\", \"EDP\", \"EDT\", \"notes\", \"accords\", \"projection\", \"longevity\",\n",
    "            \"ysl libre\", \"la vie est belle\", \"black opium\", \"my way\"\n",
    "        ]\n",
    "    },\n",
    "    \"Science/Ingredients\": {\n",
    "        \"seeds\": [\n",
    "            \"dermatology\", \"clinical study\", \"ingredient science\", \"polyphenols\", \"peptides\",\n",
    "            \"retinoids\", \"SPF testing\", \"photoprotection\"\n",
    "        ],\n",
    "        \"keywords\": [\n",
    "            \"in vitro\", \"in vivo\", \"dermatologist tested\", \"active ingredients\",\n",
    "            \"non comedogenic\", \"hypoallergenic\"\n",
    "        ]\n",
    "    },\n",
    "    \"Health & Wellness\": {\n",
    "        \"seeds\": [\n",
    "            \"health\", \"wellness\", \"healthy skin\", \"skin health\", \"nutrition\", \"lifestyle\",\n",
    "            \"physical attractiveness\", \"mental health\", \"self care\", \"fitness\", \"exercise\", \"holistic\"\n",
    "        ],\n",
    "        \"keywords\": [\n",
    "            \"health\", \"wellness\", \"healthy\", \"skin health\", \"nutrition\", \"lifestyle\",\n",
    "            \"physical attractiveness\", \"mental health\", \"self care\", \"fitness\", \"exercise\", \"holistic\"\n",
    "        ]\n",
    "    },\n",
    "    \"Fashion\": {\n",
    "        \"seeds\": [\n",
    "            \"fashion\", \"style\", \"outfit\", \"clothing\", \"runway\", \"trend\", \"designer\", \"couture\"\n",
    "        ],\n",
    "        \"keywords\": [\n",
    "            \"fashion\", \"style\", \"outfit\", \"clothing\", \"runway\", \"trend\", \"designer\", \"couture\"\n",
    "        ]\n",
    "    },\n",
    "    \"Nails\": {\n",
    "        \"seeds\": [\n",
    "            \"nail care\", \"manicure\", \"pedicure\", \"nail polish\", \"gel nails\", \"nail art\",\n",
    "            \"cuticle care\", \"nail salon\", \"OPI\", \"Essie\", \"Sally Hansen\"\n",
    "        ],\n",
    "        \"keywords\": [\n",
    "            \"nail polish\", \"gel nails\", \"manicure\", \"pedicure\", \"nail art\", \"cuticle care\",\n",
    "            \"opi\", \"essie\", \"sally hansen\", \"nail salon\"\n",
    "        ]\n",
    "    },\n",
    "    \"Men's Grooming\": {\n",
    "        \"seeds\": [\n",
    "            \"men's grooming\", \"beard care\", \"shaving\", \"hair styling\", \"men's skincare\",\n",
    "            \"aftershave\", \"men's fragrance\", \"L'Oréal Men Expert\", \"Nivea Men\", \"Old Spice\"\n",
    "        ],\n",
    "        \"keywords\": [\n",
    "            \"beard oil\", \"shaving cream\", \"men's skincare\", \"aftershave\", \"men's fragrance\",\n",
    "            \"loreal men expert\", \"nivea men\", \"old spice\"\n",
    "        ]\n",
    "    },\n",
    "    \"Sustainable Beauty\": {\n",
    "        \"seeds\": [\n",
    "            \"sustainable beauty\", \"eco-friendly\", \"cruelty-free\", \"organic\", \"natural ingredients\",\n",
    "            \"green beauty\", \"zero waste\", \"recyclable packaging\", \"clean beauty\"\n",
    "        ],\n",
    "        \"keywords\": [\n",
    "            \"eco-friendly\", \"cruelty-free\", \"organic\", \"natural ingredients\", \"green beauty\",\n",
    "            \"zero waste\", \"recyclable packaging\", \"clean beauty\"\n",
    "        ]\n",
    "    },\n",
    "    \"Beauty Tech\": {\n",
    "        \"seeds\": [\n",
    "            \"beauty tech\", \"smart skincare\", \"AI beauty\", \"skin analysis devices\", \"LED masks\",\n",
    "            \"beauty apps\", \"virtual try-on\", \"3D printed beauty\", \"smart mirrors\"\n",
    "        ],\n",
    "        \"keywords\": [\n",
    "            \"smart skincare\", \"AI beauty\", \"skin analysis devices\", \"LED masks\", \"beauty apps\",\n",
    "            \"virtual try-on\", \"3D printed beauty\", \"smart mirrors\"\n",
    "        ]\n",
    "    }\n",
    "}\n",
    "\n",
    "GENERIC_YT = {\"Health\", \"Lifestyle (sociology)\", \"Entertainment\", \"Society\"}"
   ],
   "id": "b758a321c8a748f",
   "outputs": [],
   "execution_count": 104
  },
  {
   "metadata": {
    "ExecuteTime": {
     "end_time": "2025-09-13T09:26:31.953285Z",
     "start_time": "2025-09-13T09:18:07.682160Z"
    }
   },
   "cell_type": "code",
   "source": [
    "from tqdm import tqdm\n",
    "\n",
    "def assign_topics_by_keywords(df, ontology):\n",
    "    df[\"topics\"] = [[] for _ in range(len(df))]\n",
    "\n",
    "    # Iterate through each topic with a progress bar\n",
    "    for topic, data in tqdm(ontology.items(), desc=\"Assigning topics\"):\n",
    "        keywords = data[\"keywords\"]\n",
    "        # Lowercase keywords for faster matching\n",
    "        keywords = [k.lower() for k in keywords]\n",
    "\n",
    "        # Check each comment for any matching keywords\n",
    "        df[\"topics\"] = df.apply(\n",
    "            lambda row: row[\"topics\"] + [topic] if any(k in row[\"clean_text\"].lower() for k in keywords) else row[\"topics\"],\n",
    "            axis=1\n",
    "        )\n",
    "    return df\n",
    "\n",
    "# Usage\n",
    "df = assign_topics_by_keywords(df, LOREAL_ONTOLOGY)"
   ],
   "id": "a858414545ebc6b4",
   "outputs": [
    {
     "name": "stdout",
     "output_type": "stream",
     "text": [
      "ERROR! Session/line number was not unique in database. History logging moved to new session 80\n"
     ]
    },
    {
     "name": "stderr",
     "output_type": "stream",
     "text": [
      "Assigning topics: 100%|██████████| 7/7 [08:19<00:00, 71.41s/it]\n"
     ]
    }
   ],
   "execution_count": 61
  },
  {
   "metadata": {
    "ExecuteTime": {
     "end_time": "2025-09-13T09:27:01.796233Z",
     "start_time": "2025-09-13T09:27:00.211272Z"
    }
   },
   "cell_type": "code",
   "source": [
    "# look at the topics assigned\n",
    "df[['clean_text', 'topics']].head(20)"
   ],
   "id": "41a18fe0a6a1b414",
   "outputs": [
    {
     "data": {
      "text/plain": [
       "                                           clean_text      topics\n",
       "0                 they are beautiful women inside out          []\n",
       "1                            i fake my smile everyday          []\n",
       "2                             you not have curly hair          []\n",
       "3                    your not fat your just beautiful          []\n",
       "4                                                              []\n",
       "5                                 india left the chat          []\n",
       "6                                       i love makeup          []\n",
       "7   english padhta hai na english mein likhkar bhe...  [Skincare]\n",
       "8                                               india          []\n",
       "9               some people arnt rich no need to flex          []\n",
       "10                                                             []\n",
       "11  literally why do i copy her makeup and it turn...          []\n",
       "12  hi bhaiya mere paas white shirt hai with 3 4 c...  [Skincare]\n",
       "13                                                             []\n",
       "14                                         what dress          []\n",
       "15                  why arent they donating that hair          []\n",
       "16                           its the fake ears for me          []\n",
       "17                                                             []\n",
       "18               no usen fajas hacen psimo a la salud          []\n",
       "19                               its giving ice spice          []"
      ],
      "text/html": [
       "<div>\n",
       "<style scoped>\n",
       "    .dataframe tbody tr th:only-of-type {\n",
       "        vertical-align: middle;\n",
       "    }\n",
       "\n",
       "    .dataframe tbody tr th {\n",
       "        vertical-align: top;\n",
       "    }\n",
       "\n",
       "    .dataframe thead th {\n",
       "        text-align: right;\n",
       "    }\n",
       "</style>\n",
       "<table border=\"1\" class=\"dataframe\">\n",
       "  <thead>\n",
       "    <tr style=\"text-align: right;\">\n",
       "      <th></th>\n",
       "      <th>clean_text</th>\n",
       "      <th>topics</th>\n",
       "    </tr>\n",
       "  </thead>\n",
       "  <tbody>\n",
       "    <tr>\n",
       "      <th>0</th>\n",
       "      <td>they are beautiful women inside out</td>\n",
       "      <td>[]</td>\n",
       "    </tr>\n",
       "    <tr>\n",
       "      <th>1</th>\n",
       "      <td>i fake my smile everyday</td>\n",
       "      <td>[]</td>\n",
       "    </tr>\n",
       "    <tr>\n",
       "      <th>2</th>\n",
       "      <td>you not have curly hair</td>\n",
       "      <td>[]</td>\n",
       "    </tr>\n",
       "    <tr>\n",
       "      <th>3</th>\n",
       "      <td>your not fat your just beautiful</td>\n",
       "      <td>[]</td>\n",
       "    </tr>\n",
       "    <tr>\n",
       "      <th>4</th>\n",
       "      <td></td>\n",
       "      <td>[]</td>\n",
       "    </tr>\n",
       "    <tr>\n",
       "      <th>5</th>\n",
       "      <td>india left the chat</td>\n",
       "      <td>[]</td>\n",
       "    </tr>\n",
       "    <tr>\n",
       "      <th>6</th>\n",
       "      <td>i love makeup</td>\n",
       "      <td>[]</td>\n",
       "    </tr>\n",
       "    <tr>\n",
       "      <th>7</th>\n",
       "      <td>english padhta hai na english mein likhkar bhe...</td>\n",
       "      <td>[Skincare]</td>\n",
       "    </tr>\n",
       "    <tr>\n",
       "      <th>8</th>\n",
       "      <td>india</td>\n",
       "      <td>[]</td>\n",
       "    </tr>\n",
       "    <tr>\n",
       "      <th>9</th>\n",
       "      <td>some people arnt rich no need to flex</td>\n",
       "      <td>[]</td>\n",
       "    </tr>\n",
       "    <tr>\n",
       "      <th>10</th>\n",
       "      <td></td>\n",
       "      <td>[]</td>\n",
       "    </tr>\n",
       "    <tr>\n",
       "      <th>11</th>\n",
       "      <td>literally why do i copy her makeup and it turn...</td>\n",
       "      <td>[]</td>\n",
       "    </tr>\n",
       "    <tr>\n",
       "      <th>12</th>\n",
       "      <td>hi bhaiya mere paas white shirt hai with 3 4 c...</td>\n",
       "      <td>[Skincare]</td>\n",
       "    </tr>\n",
       "    <tr>\n",
       "      <th>13</th>\n",
       "      <td></td>\n",
       "      <td>[]</td>\n",
       "    </tr>\n",
       "    <tr>\n",
       "      <th>14</th>\n",
       "      <td>what dress</td>\n",
       "      <td>[]</td>\n",
       "    </tr>\n",
       "    <tr>\n",
       "      <th>15</th>\n",
       "      <td>why arent they donating that hair</td>\n",
       "      <td>[]</td>\n",
       "    </tr>\n",
       "    <tr>\n",
       "      <th>16</th>\n",
       "      <td>its the fake ears for me</td>\n",
       "      <td>[]</td>\n",
       "    </tr>\n",
       "    <tr>\n",
       "      <th>17</th>\n",
       "      <td></td>\n",
       "      <td>[]</td>\n",
       "    </tr>\n",
       "    <tr>\n",
       "      <th>18</th>\n",
       "      <td>no usen fajas hacen psimo a la salud</td>\n",
       "      <td>[]</td>\n",
       "    </tr>\n",
       "    <tr>\n",
       "      <th>19</th>\n",
       "      <td>its giving ice spice</td>\n",
       "      <td>[]</td>\n",
       "    </tr>\n",
       "  </tbody>\n",
       "</table>\n",
       "</div>"
      ]
     },
     "execution_count": 62,
     "metadata": {},
     "output_type": "execute_result"
    }
   ],
   "execution_count": 62
  },
  {
   "metadata": {
    "ExecuteTime": {
     "end_time": "2025-09-13T09:27:23.476543Z",
     "start_time": "2025-09-13T09:27:21.224625Z"
    }
   },
   "cell_type": "code",
   "source": [
    "# check how many comments have topics assigned\n",
    "df['num_topics'] = df['topics'].apply(len)\n",
    "print(f\"Total comments with at least one topic: {len(df[df['num_topics'] > 0])} out of {len(df)}\")"
   ],
   "id": "8144e4737f2cffcf",
   "outputs": [
    {
     "name": "stdout",
     "output_type": "stream",
     "text": [
      "Total comments with at least one topic: 255381 out of 4723483\n"
     ]
    }
   ],
   "execution_count": 63
  },
  {
   "metadata": {
    "ExecuteTime": {
     "end_time": "2025-09-13T09:27:38.327485Z",
     "start_time": "2025-09-13T09:27:36.707863Z"
    }
   },
   "cell_type": "code",
   "source": [
    "# filter to only comments with topics assigned\n",
    "df_topics = df[df['num_topics'] > 0].copy()\n",
    "print(f\"Filtered to {len(df_topics)} comments with topics assigned\")"
   ],
   "id": "ed88147067178762",
   "outputs": [
    {
     "name": "stdout",
     "output_type": "stream",
     "text": [
      "Filtered to 255381 comments with topics assigned\n"
     ]
    }
   ],
   "execution_count": 64
  },
  {
   "metadata": {
    "ExecuteTime": {
     "end_time": "2025-09-13T09:28:10.284190Z",
     "start_time": "2025-09-13T09:28:10.134012Z"
    }
   },
   "cell_type": "code",
   "source": [
    "# check the distribution of topics\n",
    "from collections import Counter\n",
    "import pandas as pd\n",
    "all_topics = [topic for sublist in df_topics['topics'] for topic in sublist]\n",
    "topic_counts = Counter(all_topics)\n",
    "topic_df = pd.DataFrame(topic_counts.items(), columns=['Topic', 'Count']).sort_values(by='Count', ascending=False)\n",
    "print(topic_df)"
   ],
   "id": "b193076ca909ecaa",
   "outputs": [
    {
     "name": "stdout",
     "output_type": "stream",
     "text": [
      "                 Topic   Count\n",
      "2               Makeup  118100\n",
      "1              Fashion   60922\n",
      "0             Skincare   59827\n",
      "4    Health & Wellness   20651\n",
      "6            Fragrance    2617\n",
      "5             Haircare    2494\n",
      "3  Science/Ingredients      81\n"
     ]
    }
   ],
   "execution_count": 65
  },
  {
   "metadata": {
    "ExecuteTime": {
     "end_time": "2025-09-13T09:30:50.182164Z",
     "start_time": "2025-09-13T09:30:50.175742Z"
    }
   },
   "cell_type": "code",
   "source": [
    "# get the schema of df_topics\n",
    "df_topics.columns"
   ],
   "id": "d81b63bb4ac16d07",
   "outputs": [
    {
     "data": {
      "text/plain": [
       "Index(['commentId', 'textOriginal', 'publishedAt', 'videoId', 'channelId',\n",
       "       'title', 'viewCount', 'likeCount', 'clean_text', 'sentiment_score',\n",
       "       'sentiment_label', 'cluster', 'cluster_label', 'merged_label',\n",
       "       'negative', 'neutral', 'positive', 'total', 'positive_ratio',\n",
       "       'negative_ratio', 'topics', 'num_topics'],\n",
       "      dtype='object')"
      ]
     },
     "execution_count": 66,
     "metadata": {},
     "output_type": "execute_result"
    }
   ],
   "execution_count": 66
  },
  {
   "metadata": {
    "ExecuteTime": {
     "end_time": "2025-09-13T09:32:09.631841Z",
     "start_time": "2025-09-13T09:31:42.026676Z"
    }
   },
   "cell_type": "code",
   "source": [
    "import matplotlib.pyplot as plt\n",
    "import pandas as pd\n",
    "\n",
    "# Ensure publishedAt is datetime\n",
    "df['publishedAt'] = pd.to_datetime(df['publishedAt'])\n",
    "\n",
    "# Extract date only\n",
    "df['date'] = df['publishedAt'].dt.date\n",
    "\n",
    "# Explode the list of topics so each row has one topic\n",
    "df_exploded = df.explode('topics')\n",
    "\n",
    "# Count comments per topic per day\n",
    "topic_trends = df_exploded.groupby(['date', 'topics']).size().unstack(fill_value=0)\n",
    "\n",
    "# Plot top N topics (e.g., 5)\n",
    "top_topics = topic_trends.sum().sort_values(ascending=False).head(5).index\n",
    "topic_trends[top_topics].plot(figsize=(12,6), marker='o')\n",
    "plt.title(\"Top Topics Over Time\")\n",
    "plt.xlabel(\"Date\")\n",
    "plt.ylabel(\"Number of Comments\")\n",
    "plt.legend(title=\"Topic\")\n",
    "plt.tight_layout()\n",
    "plt.show()"
   ],
   "id": "8575b8dddbd9d529",
   "outputs": [
    {
     "data": {
      "text/plain": [
       "<Figure size 1200x600 with 1 Axes>"
      ],
      "image/png": "[encoded data removed]"
     },
     "metadata": {},
     "output_type": "display_data"
    }
   ],
   "execution_count": 67
  },
  {
   "metadata": {
    "ExecuteTime": {
     "end_time": "2025-09-13T09:34:10.332909Z",
     "start_time": "2025-09-13T09:34:08.314269Z"
    }
   },
   "cell_type": "code",
   "source": [
    "# store df_topics to duckdb\n",
    "conn = connect_db(db_path=DB_FILE)\n",
    "conn.register('df_topics', df_topics)\n",
    "conn.sql(\"CREATE OR REPLACE TABLE comments_with_topics AS SELECT * FROM df_topics\")\n",
    "conn.close()"
   ],
   "id": "ebb44e13088d126c",
   "outputs": [
    {
     "name": "stdout",
     "output_type": "stream",
     "text": [
      "[DEBUG] Connecting to database at: loreal_datathon.duckdb\n"
     ]
    }
   ],
   "execution_count": 68
  },
  {
   "metadata": {
    "ExecuteTime": {
     "end_time": "2025-09-13T09:52:55.052304Z",
     "start_time": "2025-09-13T09:52:52.625678Z"
    }
   },
   "cell_type": "code",
   "source": [
    "# get the comments_with_topics from duckdb\n",
    "conn = connect_db(db_path=DB_FILE)\n",
    "df_topics = conn.sql(\"SELECT * FROM comments_with_topics\").df()\n",
    "\n"
   ],
   "id": "1341324fc8d6b58",
   "outputs": [
    {
     "name": "stdout",
     "output_type": "stream",
     "text": [
      "[DEBUG] Connecting to database at: loreal_datathon.duckdb\n"
     ]
    }
   ],
   "execution_count": 88
  },
  {
   "metadata": {
    "ExecuteTime": {
     "end_time": "2025-09-13T09:52:57.809698Z",
     "start_time": "2025-09-13T09:52:57.806756Z"
    }
   },
   "cell_type": "code",
   "source": [
    "# check the schema of df_topics\n",
    "df_topics.columns"
   ],
   "id": "cc227076764851ef",
   "outputs": [
    {
     "data": {
      "text/plain": [
       "Index(['commentId', 'textOriginal', 'publishedAt', 'videoId', 'channelId',\n",
       "       'title', 'viewCount', 'likeCount', 'clean_text', 'sentiment_score',\n",
       "       'sentiment_label', 'cluster', 'cluster_label', 'merged_label',\n",
       "       'negative', 'neutral', 'positive', 'total', 'positive_ratio',\n",
       "       'negative_ratio', 'topics', 'num_topics'],\n",
       "      dtype='object')"
      ]
     },
     "execution_count": 89,
     "metadata": {},
     "output_type": "execute_result"
    }
   ],
   "execution_count": 89
  },
  {
   "metadata": {
    "ExecuteTime": {
     "end_time": "2025-09-13T09:53:44.329669Z",
     "start_time": "2025-09-13T09:53:44.324052Z"
    }
   },
   "cell_type": "code",
   "source": [
    "# get all the tables in duckdb\n",
    "conn = connect_db(db_path=DB_FILE)\n",
    "tables = conn.execute(\"SHOW TABLES\").fetchdf()\n",
    "print(tables)\n"
   ],
   "id": "49b371384ef10421",
   "outputs": [
    {
     "name": "stdout",
     "output_type": "stream",
     "text": [
      "[DEBUG] Connecting to database at: loreal_datathon.duckdb\n",
      "                   name\n",
      "0              comments\n",
      "1    comments_processed\n",
      "2  comments_with_topics\n",
      "3       orphan_comments\n",
      "4                  tags\n",
      "5      topic_categories\n",
      "6      video_categories\n",
      "7            video_tags\n",
      "8                videos\n"
     ]
    }
   ],
   "execution_count": 91
  },
  {
   "metadata": {
    "ExecuteTime": {
     "end_time": "2025-09-13T09:59:55.298684Z",
     "start_time": "2025-09-13T09:59:55.017316Z"
    }
   },
   "cell_type": "code",
   "source": [
    "# show the first 5 rows of video\n",
    "video = conn.sql(\"SELECT * FROM videos\").df()\n",
    "video"
   ],
   "id": "d608cc39ba17cd28",
   "outputs": [
    {
     "data": {
      "text/plain": [
       "                kind channelId  videoId  \\\n",
       "0      youtube#video      7444       12   \n",
       "1      youtube#video     40301       20   \n",
       "2      youtube#video     39378       36   \n",
       "3      youtube#video       526       68   \n",
       "4      youtube#video     36970       69   \n",
       "...              ...       ...      ...   \n",
       "92754  youtube#video     42605    59264   \n",
       "92755  youtube#video      6747    59311   \n",
       "92756  youtube#video     17538    59316   \n",
       "92757  youtube#video     26437    59339   \n",
       "92758  youtube#video      6029    59342   \n",
       "\n",
       "                                                   title  \\\n",
       "0      Beautiful lips are drawn #Lip liner lipstick #...   \n",
       "1      ombre🌎 #haircolor #hairtransformation #viral #...   \n",
       "2                       Glow Naturally with Meabia Marry   \n",
       "3      Nikah makeup | Bridal makeup | Sliss beauty pr...   \n",
       "4                                       SEINE Ex vs. DU🔥   \n",
       "...                                                  ...   \n",
       "92754  🧡+♥️=💄 Viral Lipstick Mixing ll #lipstick #sho...   \n",
       "92755  Before &amp; After Powder Brow / Permanent Mak...   \n",
       "92756  Styling White Kurti In Different Ways || Look ...   \n",
       "92757  Can girls shave their face #skincare #shaving ...   \n",
       "92758  RtopR MANGO BODY CREAM #rtopr #bodybuilding #b...   \n",
       "\n",
       "                                             description defaultLanguage  \\\n",
       "0                                                   None            None   \n",
       "1                                                   None            None   \n",
       "2      Discover the secret to soft, radiant skin with...            None   \n",
       "3      Nikah makeup | Bridal makeup | Sliss beauty pr...           en-AU   \n",
       "4                                                   None              de   \n",
       "...                                                  ...             ...   \n",
       "92754                                               None              hi   \n",
       "92755                                               None            None   \n",
       "92756  #whitekurtistyling #stylinginspiration #lookst...              en   \n",
       "92757  Can girls shave their face #skincare #shaving ...              en   \n",
       "92758                                               None            None   \n",
       "\n",
       "      defaultAudioLanguage contentDuration  viewCount  likeCount  \\\n",
       "0                     None           PT19S       9100         76   \n",
       "1                     None           PT15S         67          1   \n",
       "2                     None            PT8S       1635          3   \n",
       "3                    en-US           PT28S       7726        317   \n",
       "4                       de           PT14S       3017         52   \n",
       "...                    ...             ...        ...        ...   \n",
       "92754                   hi           PT41S      16293        667   \n",
       "92755                 None           PT21S       1965         28   \n",
       "92756                   en         PT3M45S       7290       <NA>   \n",
       "92757                   kn           PT16S        458          8   \n",
       "92758                 None           PT28S       3227         46   \n",
       "\n",
       "       favouriteCount  commentCount         publishedAt  \n",
       "0                <NA>          <NA> 2025-03-27 05:13:32  \n",
       "1                <NA>          <NA> 2023-10-03 13:37:22  \n",
       "2                <NA>          <NA> 2025-04-21 07:35:53  \n",
       "3                <NA>            11 2024-05-30 12:10:54  \n",
       "4                <NA>             1 2023-11-08 16:00:00  \n",
       "...               ...           ...                 ...  \n",
       "92754            <NA>            20 2023-08-16 14:29:49  \n",
       "92755            <NA>          <NA> 2022-08-10 13:12:14  \n",
       "92756            <NA>            10 2021-02-20 05:40:42  \n",
       "92757            <NA>          <NA> 2022-11-24 04:40:10  \n",
       "92758            <NA>          <NA> 2023-08-14 03:49:24  \n",
       "\n",
       "[92759 rows x 13 columns]"
      ],
      "text/html": [
       "<div>\n",
       "<style scoped>\n",
       "    .dataframe tbody tr th:only-of-type {\n",
       "        vertical-align: middle;\n",
       "    }\n",
       "\n",
       "    .dataframe tbody tr th {\n",
       "        vertical-align: top;\n",
       "    }\n",
       "\n",
       "    .dataframe thead th {\n",
       "        text-align: right;\n",
       "    }\n",
       "</style>\n",
       "<table border=\"1\" class=\"dataframe\">\n",
       "  <thead>\n",
       "    <tr style=\"text-align: right;\">\n",
       "      <th></th>\n",
       "      <th>kind</th>\n",
       "      <th>channelId</th>\n",
       "      <th>videoId</th>\n",
       "      <th>title</th>\n",
       "      <th>description</th>\n",
       "      <th>defaultLanguage</th>\n",
       "      <th>defaultAudioLanguage</th>\n",
       "      <th>contentDuration</th>\n",
       "      <th>viewCount</th>\n",
       "      <th>likeCount</th>\n",
       "      <th>favouriteCount</th>\n",
       "      <th>commentCount</th>\n",
       "      <th>publishedAt</th>\n",
       "    </tr>\n",
       "  </thead>\n",
       "  <tbody>\n",
       "    <tr>\n",
       "      <th>0</th>\n",
       "      <td>youtube#video</td>\n",
       "      <td>7444</td>\n",
       "      <td>12</td>\n",
       "      <td>Beautiful lips are drawn #Lip liner lipstick #...</td>\n",
       "      <td>None</td>\n",
       "      <td>None</td>\n",
       "      <td>None</td>\n",
       "      <td>PT19S</td>\n",
       "      <td>9100</td>\n",
       "      <td>76</td>\n",
       "      <td>&lt;NA&gt;</td>\n",
       "      <td>&lt;NA&gt;</td>\n",
       "      <td>2025-03-27 05:13:32</td>\n",
       "    </tr>\n",
       "    <tr>\n",
       "      <th>1</th>\n",
       "      <td>youtube#video</td>\n",
       "      <td>40301</td>\n",
       "      <td>20</td>\n",
       "      <td>ombre🌎 #haircolor #hairtransformation #viral #...</td>\n",
       "      <td>None</td>\n",
       "      <td>None</td>\n",
       "      <td>None</td>\n",
       "      <td>PT15S</td>\n",
       "      <td>67</td>\n",
       "      <td>1</td>\n",
       "      <td>&lt;NA&gt;</td>\n",
       "      <td>&lt;NA&gt;</td>\n",
       "      <td>2023-10-03 13:37:22</td>\n",
       "    </tr>\n",
       "    <tr>\n",
       "      <th>2</th>\n",
       "      <td>youtube#video</td>\n",
       "      <td>39378</td>\n",
       "      <td>36</td>\n",
       "      <td>Glow Naturally with Meabia Marry</td>\n",
       "      <td>Discover the secret to soft, radiant skin with...</td>\n",
       "      <td>None</td>\n",
       "      <td>None</td>\n",
       "      <td>PT8S</td>\n",
       "      <td>1635</td>\n",
       "      <td>3</td>\n",
       "      <td>&lt;NA&gt;</td>\n",
       "      <td>&lt;NA&gt;</td>\n",
       "      <td>2025-04-21 07:35:53</td>\n",
       "    </tr>\n",
       "    <tr>\n",
       "      <th>3</th>\n",
       "      <td>youtube#video</td>\n",
       "      <td>526</td>\n",
       "      <td>68</td>\n",
       "      <td>Nikah makeup | Bridal makeup | Sliss beauty pr...</td>\n",
       "      <td>Nikah makeup | Bridal makeup | Sliss beauty pr...</td>\n",
       "      <td>en-AU</td>\n",
       "      <td>en-US</td>\n",
       "      <td>PT28S</td>\n",
       "      <td>7726</td>\n",
       "      <td>317</td>\n",
       "      <td>&lt;NA&gt;</td>\n",
       "      <td>11</td>\n",
       "      <td>2024-05-30 12:10:54</td>\n",
       "    </tr>\n",
       "    <tr>\n",
       "      <th>4</th>\n",
       "      <td>youtube#video</td>\n",
       "      <td>36970</td>\n",
       "      <td>69</td>\n",
       "      <td>SEINE Ex vs. DU🔥</td>\n",
       "      <td>None</td>\n",
       "      <td>de</td>\n",
       "      <td>de</td>\n",
       "      <td>PT14S</td>\n",
       "      <td>3017</td>\n",
       "      <td>52</td>\n",
       "      <td>&lt;NA&gt;</td>\n",
       "      <td>1</td>\n",
       "      <td>2023-11-08 16:00:00</td>\n",
       "    </tr>\n",
       "    <tr>\n",
       "      <th>...</th>\n",
       "      <td>...</td>\n",
       "      <td>...</td>\n",
       "      <td>...</td>\n",
       "      <td>...</td>\n",
       "      <td>...</td>\n",
       "      <td>...</td>\n",
       "      <td>...</td>\n",
       "      <td>...</td>\n",
       "      <td>...</td>\n",
       "      <td>...</td>\n",
       "      <td>...</td>\n",
       "      <td>...</td>\n",
       "      <td>...</td>\n",
       "    </tr>\n",
       "    <tr>\n",
       "      <th>92754</th>\n",
       "      <td>youtube#video</td>\n",
       "      <td>42605</td>\n",
       "      <td>59264</td>\n",
       "      <td>🧡+♥️=💄 Viral Lipstick Mixing ll #lipstick #sho...</td>\n",
       "      <td>None</td>\n",
       "      <td>hi</td>\n",
       "      <td>hi</td>\n",
       "      <td>PT41S</td>\n",
       "      <td>16293</td>\n",
       "      <td>667</td>\n",
       "      <td>&lt;NA&gt;</td>\n",
       "      <td>20</td>\n",
       "      <td>2023-08-16 14:29:49</td>\n",
       "    </tr>\n",
       "    <tr>\n",
       "      <th>92755</th>\n",
       "      <td>youtube#video</td>\n",
       "      <td>6747</td>\n",
       "      <td>59311</td>\n",
       "      <td>Before &amp;amp; After Powder Brow / Permanent Mak...</td>\n",
       "      <td>None</td>\n",
       "      <td>None</td>\n",
       "      <td>None</td>\n",
       "      <td>PT21S</td>\n",
       "      <td>1965</td>\n",
       "      <td>28</td>\n",
       "      <td>&lt;NA&gt;</td>\n",
       "      <td>&lt;NA&gt;</td>\n",
       "      <td>2022-08-10 13:12:14</td>\n",
       "    </tr>\n",
       "    <tr>\n",
       "      <th>92756</th>\n",
       "      <td>youtube#video</td>\n",
       "      <td>17538</td>\n",
       "      <td>59316</td>\n",
       "      <td>Styling White Kurti In Different Ways || Look ...</td>\n",
       "      <td>#whitekurtistyling #stylinginspiration #lookst...</td>\n",
       "      <td>en</td>\n",
       "      <td>en</td>\n",
       "      <td>PT3M45S</td>\n",
       "      <td>7290</td>\n",
       "      <td>&lt;NA&gt;</td>\n",
       "      <td>&lt;NA&gt;</td>\n",
       "      <td>10</td>\n",
       "      <td>2021-02-20 05:40:42</td>\n",
       "    </tr>\n",
       "    <tr>\n",
       "      <th>92757</th>\n",
       "      <td>youtube#video</td>\n",
       "      <td>26437</td>\n",
       "      <td>59339</td>\n",
       "      <td>Can girls shave their face #skincare #shaving ...</td>\n",
       "      <td>Can girls shave their face #skincare #shaving ...</td>\n",
       "      <td>en</td>\n",
       "      <td>kn</td>\n",
       "      <td>PT16S</td>\n",
       "      <td>458</td>\n",
       "      <td>8</td>\n",
       "      <td>&lt;NA&gt;</td>\n",
       "      <td>&lt;NA&gt;</td>\n",
       "      <td>2022-11-24 04:40:10</td>\n",
       "    </tr>\n",
       "    <tr>\n",
       "      <th>92758</th>\n",
       "      <td>youtube#video</td>\n",
       "      <td>6029</td>\n",
       "      <td>59342</td>\n",
       "      <td>RtopR MANGO BODY CREAM #rtopr #bodybuilding #b...</td>\n",
       "      <td>None</td>\n",
       "      <td>None</td>\n",
       "      <td>None</td>\n",
       "      <td>PT28S</td>\n",
       "      <td>3227</td>\n",
       "      <td>46</td>\n",
       "      <td>&lt;NA&gt;</td>\n",
       "      <td>&lt;NA&gt;</td>\n",
       "      <td>2023-08-14 03:49:24</td>\n",
       "    </tr>\n",
       "  </tbody>\n",
       "</table>\n",
       "<p>92759 rows × 13 columns</p>\n",
       "</div>"
      ]
     },
     "execution_count": 110,
     "metadata": {},
     "output_type": "execute_result"
    }
   ],
   "execution_count": 110
  },
  {
   "metadata": {
    "ExecuteTime": {
     "end_time": "2025-09-13T10:00:25.588462Z",
     "start_time": "2025-09-13T09:59:58.807633Z"
    }
   },
   "cell_type": "code",
   "source": [
    "# assign topics to videos based on title and description\n",
    "def assign_topics_to_videos(df, ontology):\n",
    "    df[\"video_topics\"] = [[] for _ in range(len(df))]\n",
    "    for topic, data in tqdm(ontology.items(), desc=\"Assigning video topics\"):\n",
    "        keywords = data[\"keywords\"]\n",
    "        keywords = [k.lower() for k in keywords]\n",
    "\n",
    "        df[\"video_topics\"] = df.apply(\n",
    "            lambda row: row[\"video_topics\"] + [topic] if any(k in (row[\"title\"] + \" \" + (row[\"description\"] or \"\")).lower() for k in keywords) else row[\"video_topics\"],\n",
    "            axis=1\n",
    "        )\n",
    "    return df\n",
    "\n",
    "video = assign_topics_to_videos(video, LOREAL_ONTOLOGY)"
   ],
   "id": "b37c1d85f305a9f3",
   "outputs": [
    {
     "name": "stderr",
     "output_type": "stream",
     "text": [
      "Assigning video topics: 100%|██████████| 11/11 [00:26<00:00,  2.43s/it]\n"
     ]
    }
   ],
   "execution_count": 111
  },
  {
   "metadata": {
    "ExecuteTime": {
     "end_time": "2025-09-13T10:00:25.664119Z",
     "start_time": "2025-09-13T10:00:25.640158Z"
    }
   },
   "cell_type": "code",
   "source": [
    "# check the topics assigned to videos\n",
    "\n",
    "# get the number of videos with topics assigned\n",
    "video['num_video_topics'] = video['video_topics'].apply(len)\n",
    "print(f\"Total videos with at least one topic: {len(video[video['num_video_topics'] > 0])} out of {len(video)}\")"
   ],
   "id": "70d3345894af13ab",
   "outputs": [
    {
     "name": "stdout",
     "output_type": "stream",
     "text": [
      "Total videos with at least one topic: 37525 out of 92759\n"
     ]
    }
   ],
   "execution_count": 112
  },
  {
   "metadata": {
    "ExecuteTime": {
     "end_time": "2025-09-13T10:01:07.467829Z",
     "start_time": "2025-09-13T10:01:07.413160Z"
    }
   },
   "cell_type": "code",
   "source": [
    "# get the distribution of video topics\n",
    "all_video_topics = [topic for sublist in video['video_topics'] for topic in sublist]\n",
    "video_topic_counts = Counter(all_video_topics)\n",
    "video_topic_df = pd.DataFrame(video_topic_counts.items(), columns=['Topic', 'Count']).sort_values(by='Count', ascending=False)\n",
    "print(video_topic_df)\n"
   ],
   "id": "d7f2a65e3fb5a418",
   "outputs": [
    {
     "name": "stdout",
     "output_type": "stream",
     "text": [
      "                  Topic  Count\n",
      "0               Fashion  26200\n",
      "5                Makeup   7645\n",
      "3     Health & Wellness   4800\n",
      "7              Haircare   3894\n",
      "4              Skincare   3543\n",
      "2                 Nails   1461\n",
      "1    Sustainable Beauty    621\n",
      "6             Fragrance    609\n",
      "10       Men's Grooming    113\n",
      "8   Science/Ingredients     31\n",
      "9           Beauty Tech     14\n"
     ]
    }
   ],
   "execution_count": 113
  },
  {
   "metadata": {
    "ExecuteTime": {
     "end_time": "2025-09-13T10:22:14.431519Z",
     "start_time": "2025-09-13T10:22:14.402481Z"
    }
   },
   "cell_type": "code",
   "source": [
    "# get the number of comments per video by merging with df_topics\n",
    "comment_counts = df_topics.groupby('videoId').size().reset_index(name='comment_count')\n",
    "video = video.merge(comment_counts, on='videoId', how='left')\n",
    "video['comment_count'] = video['comment_count'].fillna(0).astype(int)"
   ],
   "id": "9d07d55b2d18182",
   "outputs": [],
   "execution_count": 124
  },
  {
   "metadata": {
    "ExecuteTime": {
     "end_time": "2025-09-13T10:05:55.825213Z",
     "start_time": "2025-09-13T10:05:55.736906Z"
    }
   },
   "cell_type": "code",
   "source": [
    "# get the highest commented videos\n",
    "top_commented_videos = video.sort_values(by='comment_count', ascending=False).head(10)\n",
    "print(top_commented_videos[['videoId', 'title', 'comment_count', 'video_topics']])"
   ],
   "id": "93a9335cdad6af48",
   "outputs": [
    {
     "name": "stdout",
     "output_type": "stream",
     "text": [
      "       videoId                                              title  \\\n",
      "59932    69445                what men think no makeup is #makeup   \n",
      "75387    32656  Which is your favortie? #hairstyle #shortvideo...   \n",
      "29751    82728  I’m not brown🟤 🙎🏽‍♀️ #relatable #trend #shorts...   \n",
      "8197     39524  another day 😍 another slay to unsolicited weig...   \n",
      "3457     21883  Makeover at Shivas Signature Salon | By Shweth...   \n",
      "77318    64178  What’s bad is society’s perception of perfect ...   \n",
      "61369       45                 Nainowaale ne #browngirl #ytshorts   \n",
      "41310    55433  This is how I face my tapes #transformation #f...   \n",
      "78632    18615  Boys can wear makeup too #shortsfeed #makeup #...   \n",
      "57939    70504  Skin so beautiful ………. #explore #beauty #skinc...   \n",
      "\n",
      "       comment_count                 video_topics  \n",
      "59932           7402                           []  \n",
      "75387           5632                    [Fashion]  \n",
      "29751           4508            [Makeup, Fashion]  \n",
      "8197            2798                           []  \n",
      "3457            2483  [Makeup, Skincare, Fashion]  \n",
      "77318           2469                     [Makeup]  \n",
      "61369           2209                     [Makeup]  \n",
      "41310           2159                           []  \n",
      "78632           1888                           []  \n",
      "57939           1651                           []  \n"
     ]
    }
   ],
   "execution_count": 115
  },
  {
   "metadata": {
    "ExecuteTime": {
     "end_time": "2025-09-13T10:07:13.525681Z",
     "start_time": "2025-09-13T10:07:13.493029Z"
    }
   },
   "cell_type": "code",
   "source": [
    "# get create engagement score = (likeCount + commentCount) / viewCount\n",
    "video['likeCount'] = pd.to_numeric(video['likeCount'], errors='coerce').fillna(0)\n",
    "video['viewCount'] = pd.to_numeric(video['viewCount'], errors='coerce').replace(0, 1)  # avoid division by zero\n",
    "video['engagement_score'] = (video['likeCount'] + video['comment_count']) / video['viewCount']"
   ],
   "id": "8ab0d5d97e9b9adf",
   "outputs": [],
   "execution_count": 117
  },
  {
   "metadata": {
    "ExecuteTime": {
     "end_time": "2025-09-13T10:07:22.346612Z",
     "start_time": "2025-09-13T10:07:22.249644Z"
    }
   },
   "cell_type": "code",
   "source": [
    "# get the top engaged videos\n",
    "top_engaged_videos = video.sort_values(by='engagement_score', ascending=False).head(10)\n",
    "print(top_engaged_videos[['videoId', 'title', 'engagement_score', 'video_topics']])"
   ],
   "id": "159ba491542f18fa",
   "outputs": [
    {
     "name": "stdout",
     "output_type": "stream",
     "text": [
      "       videoId                                              title  \\\n",
      "16867    22316             Dewy bridal look? Unlocked with Lakmé⚡   \n",
      "84978    60179  Imperial Meadow Brooks Wig  women &amp; men pr...   \n",
      "41503    58399  #shorts #loveyourself #salon #styling #noitre ...   \n",
      "77669     3105  Self Care Routine 2021 Haircutstyle, Hair colo...   \n",
      "86379    49794  #straightening #bhfyp #hairstyle #hairstyles #...   \n",
      "5049     81829                        beauty compilation # shorts   \n",
      "21105    90332                        beauty compilation # shorts   \n",
      "34409     2011  essential face wash AP ki skin ko glow deta h ...   \n",
      "27117    68138              Foundation time and Finishing look..💋   \n",
      "7611     60761  #like #share #comment #subscribe #youtubeshort...   \n",
      "\n",
      "       engagement_score                          video_topics  \n",
      "16867         13.342412                     [Makeup, Fashion]  \n",
      "84978          7.084507                             [Fashion]  \n",
      "41503               4.8                                    []  \n",
      "77669          4.177419  [Makeup, Health & Wellness, Fashion]  \n",
      "86379               3.0            [Haircare, Fashion, Nails]  \n",
      "5049           2.333333                                    []  \n",
      "21105          2.333333                                    []  \n",
      "34409               2.0                                    []  \n",
      "27117               2.0                                    []  \n",
      "7611                2.0                                    []  \n"
     ]
    }
   ],
   "execution_count": 118
  },
  {
   "metadata": {
    "ExecuteTime": {
     "end_time": "2025-09-13T10:32:32.743484Z",
     "start_time": "2025-09-13T10:32:32.575280Z"
    }
   },
   "cell_type": "code",
   "source": [
    "# add the video topics to df_topics by merging on videoId\n",
    "df_topics = df_topics.merge(video[['videoId','video_topics']], on='videoId', how='left')\n"
   ],
   "id": "81b7f4c0d0cffb54",
   "outputs": [],
   "execution_count": 126
  },
  {
   "metadata": {
    "ExecuteTime": {
     "end_time": "2025-09-13T10:33:13.745837Z",
     "start_time": "2025-09-13T10:33:13.467869Z"
    }
   },
   "cell_type": "code",
   "source": [
    "def calculate_relevance_score(row):\n",
    "    video_topics = set(row['video_topics'])\n",
    "    comment_topics = set(row['topics_comment'])\n",
    "    if not comment_topics:\n",
    "        return 0.0\n",
    "    common_topics = video_topics.intersection(comment_topics)\n",
    "    return len(common_topics) / len(comment_topics)\n",
    "\n",
    "# rename topics in df_topics to topics_comment to avoid confusion\n",
    "df_topics = df_topics.rename(columns={'topics': 'topics_comment'})\n"
   ],
   "id": "c13b18a3739649b1",
   "outputs": [],
   "execution_count": 127
  },
  {
   "metadata": {
    "ExecuteTime": {
     "end_time": "2025-09-13T10:33:23.565908Z",
     "start_time": "2025-09-13T10:33:22.406757Z"
    }
   },
   "cell_type": "code",
   "source": "df_topics['relevance_score'] = df_topics.apply(calculate_relevance_score, axis=1)",
   "id": "f8530c46d3822256",
   "outputs": [],
   "execution_count": 128
  },
  {
   "metadata": {
    "ExecuteTime": {
     "end_time": "2025-09-13T10:33:36.251780Z",
     "start_time": "2025-09-13T10:33:36.152837Z"
    }
   },
   "cell_type": "code",
   "source": [
    "# get the average relevance score per video\n",
    "video_relevance = df_topics.groupby('videoId')['relevance_score'].mean().reset_index(name='avg_relevance_score')\n",
    "video = video.merge(video_relevance, on='videoId', how='left')"
   ],
   "id": "9518eb47d1f4a839",
   "outputs": [],
   "execution_count": 129
  },
  {
   "metadata": {
    "ExecuteTime": {
     "end_time": "2025-09-13T10:33:45.452686Z",
     "start_time": "2025-09-13T10:33:45.419493Z"
    }
   },
   "cell_type": "code",
   "source": [
    "# get the top relevant videos\n",
    "top_relevant_videos = video.sort_values(by='avg_relevance_score', ascending=False).head(10)\n",
    "print(top_relevant_videos[['videoId', 'title', 'avg_relevance_score', 'video_topics']])"
   ],
   "id": "6b724f44ae96984a",
   "outputs": [
    {
     "name": "stdout",
     "output_type": "stream",
     "text": [
      "       videoId                                              title  \\\n",
      "27954    81291  Jawline Defining v face slimming exercise tech...   \n",
      "48015    34687  How To Choose L.A Girl Foundation /L.A Girl Pr...   \n",
      "79686    35525  LOSE FACE FAT + FACE LIFT + ANTI-AGING #shorts...   \n",
      "48058    35274  Sexy &amp; Long-Lasting Black Tie Wedding Gues...   \n",
      "21562    68972  This is your sign to get the Shark Flexstyle #...   \n",
      "79646    34763  Full On Festive Day - 2, Timeless White Kurta ...   \n",
      "21628    69983  *REVEALED*♦️South Korean Beauty Secret 🤫 #shor...   \n",
      "79639    34688  How To: Fall Inspired Beauty with Michele Wang...   \n",
      "48030    35009  Trending Human Hair/Wigs Conpilation 2021|Type...   \n",
      "79609    34131     1960&#39;s Beauty-Inspired Look | Sally Beauty   \n",
      "\n",
      "       avg_relevance_score                   video_topics  \n",
      "27954                  1.0            [Health & Wellness]  \n",
      "48015                  1.0                       [Makeup]  \n",
      "79686                  1.0  [Haircare, Health & Wellness]  \n",
      "48058                  1.0              [Makeup, Fashion]  \n",
      "21562                  1.0                      [Fashion]  \n",
      "79646                  1.0                      [Fashion]  \n",
      "21628                  1.0                     [Skincare]  \n",
      "79639                  1.0                       [Makeup]  \n",
      "48030                  1.0                      [Fashion]  \n",
      "79609                  1.0                      [Fashion]  \n"
     ]
    }
   ],
   "execution_count": 130
  },
  {
   "metadata": {
    "ExecuteTime": {
     "end_time": "2025-09-13T10:35:20.712791Z",
     "start_time": "2025-09-13T10:35:20.698904Z"
    }
   },
   "cell_type": "code",
   "source": [
    "# get the videos that have both high engagement, high relevance, and high viewCount\n",
    "top_videos = video[\n",
    "    (video['engagement_score'] > video['engagement_score'].quantile(0.75)) &\n",
    "    (video['avg_relevance_score'] > video['avg_relevance_score'].quantile(0.75)) &\n",
    "    (video['viewCount'] > video['viewCount'].quantile(0.75))\n",
    "].sort_values(by=['engagement_score', 'avg_relevance_score'], ascending=False)\n",
    "\n",
    "top_videos[['videoId', 'title', 'engagement_score', 'avg_relevance_score', 'viewCount', 'video_topics']]"
   ],
   "id": "1e04d4ced33a7184",
   "outputs": [
    {
     "data": {
      "text/plain": [
       "       videoId                                              title  \\\n",
       "72973    58235  Styling Dupatta in 5 Different Way | fashion |...   \n",
       "63854    39564  Join @OliviaRodrigo on a journey of confidence...   \n",
       "58322    76374  that’s my PERFUME #fitcheck #newwave #androgyn...   \n",
       "87604    69744  EYEBROW &amp; MUSTACHE CLEAN UP🥰😩!! #dermaplan...   \n",
       "27343    71854  How To Style White Kurti In 7 Different Ways |...   \n",
       "...        ...                                                ...   \n",
       "44556    12927  BEST Wigs Styles for a ROUND Face &amp; Double...   \n",
       "13856    41297  GRWM: Styling A Butterfly Top Pt. II ✨ #ootd #...   \n",
       "13014    86518  Definitely a slay🤭 #fashion #fashioninspo #ski...   \n",
       "78591    18014  Basic easy jawline defining shaping exercise t...   \n",
       "80645    50732  GRWM: Styling My New Midi Skirt✨ #grwm #ootd #...   \n",
       "\n",
       "       engagement_score  avg_relevance_score  viewCount  \\\n",
       "72973          0.545044             0.900000       8858   \n",
       "63854          0.180869             1.000000      10339   \n",
       "58322          0.174853             1.000000       7492   \n",
       "87604          0.146921             1.000000      10652   \n",
       "27343          0.142473             1.000000       3720   \n",
       "...                 ...                  ...        ...   \n",
       "44556          0.040243             0.714286      47959   \n",
       "13856           0.04022             1.000000     563098   \n",
       "13014          0.040191             0.926496    4737712   \n",
       "78591          0.040185             1.000000       6047   \n",
       "80645          0.040071             1.000000     193030   \n",
       "\n",
       "                       video_topics  \n",
       "72973                     [Fashion]  \n",
       "63854           [Makeup, Fragrance]  \n",
       "58322                     [Fashion]  \n",
       "87604                      [Makeup]  \n",
       "27343                     [Fashion]  \n",
       "...                             ...  \n",
       "44556                     [Fashion]  \n",
       "13856                     [Fashion]  \n",
       "13014                     [Fashion]  \n",
       "78591  [Health & Wellness, Fashion]  \n",
       "80645             [Makeup, Fashion]  \n",
       "\n",
       "[641 rows x 6 columns]"
      ],
      "text/html": [
       "<div>\n",
       "<style scoped>\n",
       "    .dataframe tbody tr th:only-of-type {\n",
       "        vertical-align: middle;\n",
       "    }\n",
       "\n",
       "    .dataframe tbody tr th {\n",
       "        vertical-align: top;\n",
       "    }\n",
       "\n",
       "    .dataframe thead th {\n",
       "        text-align: right;\n",
       "    }\n",
       "</style>\n",
       "<table border=\"1\" class=\"dataframe\">\n",
       "  <thead>\n",
       "    <tr style=\"text-align: right;\">\n",
       "      <th></th>\n",
       "      <th>videoId</th>\n",
       "      <th>title</th>\n",
       "      <th>engagement_score</th>\n",
       "      <th>avg_relevance_score</th>\n",
       "      <th>viewCount</th>\n",
       "      <th>video_topics</th>\n",
       "    </tr>\n",
       "  </thead>\n",
       "  <tbody>\n",
       "    <tr>\n",
       "      <th>72973</th>\n",
       "      <td>58235</td>\n",
       "      <td>Styling Dupatta in 5 Different Way | fashion |...</td>\n",
       "      <td>0.545044</td>\n",
       "      <td>0.900000</td>\n",
       "      <td>8858</td>\n",
       "      <td>[Fashion]</td>\n",
       "    </tr>\n",
       "    <tr>\n",
       "      <th>63854</th>\n",
       "      <td>39564</td>\n",
       "      <td>Join @OliviaRodrigo on a journey of confidence...</td>\n",
       "      <td>0.180869</td>\n",
       "      <td>1.000000</td>\n",
       "      <td>10339</td>\n",
       "      <td>[Makeup, Fragrance]</td>\n",
       "    </tr>\n",
       "    <tr>\n",
       "      <th>58322</th>\n",
       "      <td>76374</td>\n",
       "      <td>that’s my PERFUME #fitcheck #newwave #androgyn...</td>\n",
       "      <td>0.174853</td>\n",
       "      <td>1.000000</td>\n",
       "      <td>7492</td>\n",
       "      <td>[Fashion]</td>\n",
       "    </tr>\n",
       "    <tr>\n",
       "      <th>87604</th>\n",
       "      <td>69744</td>\n",
       "      <td>EYEBROW &amp;amp; MUSTACHE CLEAN UP🥰😩!! #dermaplan...</td>\n",
       "      <td>0.146921</td>\n",
       "      <td>1.000000</td>\n",
       "      <td>10652</td>\n",
       "      <td>[Makeup]</td>\n",
       "    </tr>\n",
       "    <tr>\n",
       "      <th>27343</th>\n",
       "      <td>71854</td>\n",
       "      <td>How To Style White Kurti In 7 Different Ways |...</td>\n",
       "      <td>0.142473</td>\n",
       "      <td>1.000000</td>\n",
       "      <td>3720</td>\n",
       "      <td>[Fashion]</td>\n",
       "    </tr>\n",
       "    <tr>\n",
       "      <th>...</th>\n",
       "      <td>...</td>\n",
       "      <td>...</td>\n",
       "      <td>...</td>\n",
       "      <td>...</td>\n",
       "      <td>...</td>\n",
       "      <td>...</td>\n",
       "    </tr>\n",
       "    <tr>\n",
       "      <th>44556</th>\n",
       "      <td>12927</td>\n",
       "      <td>BEST Wigs Styles for a ROUND Face &amp;amp; Double...</td>\n",
       "      <td>0.040243</td>\n",
       "      <td>0.714286</td>\n",
       "      <td>47959</td>\n",
       "      <td>[Fashion]</td>\n",
       "    </tr>\n",
       "    <tr>\n",
       "      <th>13856</th>\n",
       "      <td>41297</td>\n",
       "      <td>GRWM: Styling A Butterfly Top Pt. II ✨ #ootd #...</td>\n",
       "      <td>0.04022</td>\n",
       "      <td>1.000000</td>\n",
       "      <td>563098</td>\n",
       "      <td>[Fashion]</td>\n",
       "    </tr>\n",
       "    <tr>\n",
       "      <th>13014</th>\n",
       "      <td>86518</td>\n",
       "      <td>Definitely a slay🤭 #fashion #fashioninspo #ski...</td>\n",
       "      <td>0.040191</td>\n",
       "      <td>0.926496</td>\n",
       "      <td>4737712</td>\n",
       "      <td>[Fashion]</td>\n",
       "    </tr>\n",
       "    <tr>\n",
       "      <th>78591</th>\n",
       "      <td>18014</td>\n",
       "      <td>Basic easy jawline defining shaping exercise t...</td>\n",
       "      <td>0.040185</td>\n",
       "      <td>1.000000</td>\n",
       "      <td>6047</td>\n",
       "      <td>[Health &amp; Wellness, Fashion]</td>\n",
       "    </tr>\n",
       "    <tr>\n",
       "      <th>80645</th>\n",
       "      <td>50732</td>\n",
       "      <td>GRWM: Styling My New Midi Skirt✨ #grwm #ootd #...</td>\n",
       "      <td>0.040071</td>\n",
       "      <td>1.000000</td>\n",
       "      <td>193030</td>\n",
       "      <td>[Makeup, Fashion]</td>\n",
       "    </tr>\n",
       "  </tbody>\n",
       "</table>\n",
       "<p>641 rows × 6 columns</p>\n",
       "</div>"
      ]
     },
     "execution_count": 132,
     "metadata": {},
     "output_type": "execute_result"
    }
   ],
   "execution_count": 132
  },
  {
   "metadata": {},
   "cell_type": "code",
   "outputs": [],
   "execution_count": null,
   "source": "",
   "id": "10c1cdcde430d4fa"
  }
 ],
 "metadata": {
  "language_info": {
   "name": "python"
  }
 },
 "nbformat": 4,
 "nbformat_minor": 5
}
